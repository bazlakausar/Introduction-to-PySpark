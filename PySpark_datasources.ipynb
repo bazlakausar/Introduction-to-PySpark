{
  "nbformat": 4,
  "nbformat_minor": 0,
  "metadata": {
    "colab": {
      "name": "PySpark_datasources.ipynb",
      "provenance": []
    },
    "kernelspec": {
      "name": "python3",
      "display_name": "Python 3"
    },
    "language_info": {
      "name": "python"
    }
  },
  "cells": [
    {
      "cell_type": "code",
      "execution_count": 34,
      "metadata": {
        "id": "GhFiBDXsIQYJ"
      },
      "outputs": [],
      "source": [
        "!apt-get install openjdk-8-jdk-headless -qq > /dev/null\n"
      ]
    },
    {
      "cell_type": "code",
      "source": [
        "!wget -q https://archive.apache.org/dist/spark/spark-3.0.0/spark-3.0.0-bin-hadoop3.2.tgz\n"
      ],
      "metadata": {
        "id": "28O_3yV7IR-R"
      },
      "execution_count": 35,
      "outputs": []
    },
    {
      "cell_type": "code",
      "source": [
        "!tar xf spark-3.0.0-bin-hadoop3.2.tgz\n"
      ],
      "metadata": {
        "id": "FRNWmIbzIR6e"
      },
      "execution_count": 36,
      "outputs": []
    },
    {
      "cell_type": "code",
      "source": [
        "!pip install -q findspark\n"
      ],
      "metadata": {
        "id": "u_JOQM6CIR23"
      },
      "execution_count": 37,
      "outputs": []
    },
    {
      "cell_type": "code",
      "source": [
        "import os\n",
        "os.environ[\"JAVA_HOME\"] = \"/usr/lib/jvm/java-8-openjdk-amd64\"\n",
        "os.environ[\"SPARK_HOME\"] = \"/content/spark-3.0.0-bin-hadoop3.2\""
      ],
      "metadata": {
        "id": "m-nhhY15IRzT"
      },
      "execution_count": 38,
      "outputs": []
    },
    {
      "cell_type": "code",
      "source": [
        "import findspark\n",
        "findspark.init()"
      ],
      "metadata": {
        "id": "j0NbIBwEIRuK"
      },
      "execution_count": 39,
      "outputs": []
    },
    {
      "cell_type": "code",
      "source": [
        "findspark.find()"
      ],
      "metadata": {
        "colab": {
          "base_uri": "https://localhost:8080/",
          "height": 36
        },
        "id": "fGGP9EizIRqX",
        "outputId": "e2287e51-365f-4028-b8b5-1c11d65baf7f"
      },
      "execution_count": 40,
      "outputs": [
        {
          "output_type": "execute_result",
          "data": {
            "application/vnd.google.colaboratory.intrinsic+json": {
              "type": "string"
            },
            "text/plain": [
              "'/content/spark-3.0.0-bin-hadoop3.2/python/pyspark'"
            ]
          },
          "metadata": {},
          "execution_count": 40
        }
      ]
    },
    {
      "cell_type": "code",
      "source": [
        "from pyspark.sql import SparkSession\n",
        "\n",
        "spark = SparkSession.builder\\\n",
        "        .master(\"local\")\\\n",
        "        .appName(\"Colab\")\\\n",
        "        .config('spark.ui.port', '4050')\\\n",
        "        .getOrCreate()"
      ],
      "metadata": {
        "id": "9RHNJly4IRm2"
      },
      "execution_count": 41,
      "outputs": []
    },
    {
      "cell_type": "markdown",
      "source": [
        "# PySpark Data Source\n",
        "\n",
        "1. Read CSV file into a Data Frame"
      ],
      "metadata": {
        "id": "Yv67Xk2vIu40"
      }
    },
    {
      "cell_type": "code",
      "source": [
        "df = spark.read.csv(\"/content/sample_data/california_housing_test.csv\")\n",
        "df.printSchema()\n",
        "df.show(truncate=True)"
      ],
      "metadata": {
        "colab": {
          "base_uri": "https://localhost:8080/"
        },
        "id": "fvJ0ywj7IRkr",
        "outputId": "5b0a87f2-1f89-4741-db9d-353a81adf293"
      },
      "execution_count": 42,
      "outputs": [
        {
          "output_type": "stream",
          "name": "stdout",
          "text": [
            "root\n",
            " |-- _c0: string (nullable = true)\n",
            " |-- _c1: string (nullable = true)\n",
            " |-- _c2: string (nullable = true)\n",
            " |-- _c3: string (nullable = true)\n",
            " |-- _c4: string (nullable = true)\n",
            " |-- _c5: string (nullable = true)\n",
            " |-- _c6: string (nullable = true)\n",
            " |-- _c7: string (nullable = true)\n",
            " |-- _c8: string (nullable = true)\n",
            "\n",
            "+-----------+---------+------------------+-----------+--------------+-----------+----------+-------------+------------------+\n",
            "|        _c0|      _c1|               _c2|        _c3|           _c4|        _c5|       _c6|          _c7|               _c8|\n",
            "+-----------+---------+------------------+-----------+--------------+-----------+----------+-------------+------------------+\n",
            "|  longitude| latitude|housing_median_age|total_rooms|total_bedrooms| population|households|median_income|median_house_value|\n",
            "|-122.050000|37.370000|         27.000000|3885.000000|    661.000000|1537.000000|606.000000|     6.608500|     344700.000000|\n",
            "|-118.300000|34.260000|         43.000000|1510.000000|    310.000000| 809.000000|277.000000|     3.599000|     176500.000000|\n",
            "|-117.810000|33.780000|         27.000000|3589.000000|    507.000000|1484.000000|495.000000|     5.793400|     270500.000000|\n",
            "|-118.360000|33.820000|         28.000000|  67.000000|     15.000000|  49.000000| 11.000000|     6.135900|     330000.000000|\n",
            "|-119.670000|36.330000|         19.000000|1241.000000|    244.000000| 850.000000|237.000000|     2.937500|      81700.000000|\n",
            "|-119.560000|36.510000|         37.000000|1018.000000|    213.000000| 663.000000|204.000000|     1.663500|      67000.000000|\n",
            "|-121.430000|38.630000|         43.000000|1009.000000|    225.000000| 604.000000|218.000000|     1.664100|      67000.000000|\n",
            "|-120.650000|35.480000|         19.000000|2310.000000|    471.000000|1341.000000|441.000000|     3.225000|     166900.000000|\n",
            "|-122.840000|38.400000|         15.000000|3080.000000|    617.000000|1446.000000|599.000000|     3.669600|     194400.000000|\n",
            "|-118.020000|34.080000|         31.000000|2402.000000|    632.000000|2830.000000|603.000000|     2.333300|     164200.000000|\n",
            "|-118.240000|33.980000|         45.000000| 972.000000|    249.000000|1288.000000|261.000000|     2.205400|     125000.000000|\n",
            "|-119.120000|35.850000|         37.000000| 736.000000|    166.000000| 564.000000|138.000000|     2.416700|      58300.000000|\n",
            "|-121.930000|37.250000|         36.000000|1089.000000|    182.000000| 535.000000|170.000000|     4.690000|     252600.000000|\n",
            "|-117.030000|32.970000|         16.000000|3936.000000|    694.000000|1935.000000|659.000000|     4.562500|     231200.000000|\n",
            "|-117.970000|33.730000|         27.000000|2097.000000|    325.000000|1217.000000|331.000000|     5.712100|     222500.000000|\n",
            "|-117.990000|33.810000|         42.000000| 161.000000|     40.000000| 157.000000| 50.000000|     2.200000|     153100.000000|\n",
            "|-120.810000|37.530000|         15.000000| 570.000000|    123.000000| 189.000000|107.000000|     1.875000|     181300.000000|\n",
            "|-121.200000|38.690000|         26.000000|3077.000000|    607.000000|1603.000000|595.000000|     2.717400|     137500.000000|\n",
            "|-118.880000|34.210000|         26.000000|1590.000000|    196.000000| 654.000000|199.000000|     6.585100|     300000.000000|\n",
            "+-----------+---------+------------------+-----------+--------------+-----------+----------+-------------+------------------+\n",
            "only showing top 20 rows\n",
            "\n"
          ]
        }
      ]
    },
    {
      "cell_type": "markdown",
      "source": [
        "**Using Header records for column names**"
      ],
      "metadata": {
        "id": "ey9rbCG4J2II"
      }
    },
    {
      "cell_type": "code",
      "source": [
        "df1 = spark.read.option(\"header\", True) \\\n",
        ".csv(\"/content/sample_data/california_housing_test.csv\").show()\n"
      ],
      "metadata": {
        "colab": {
          "base_uri": "https://localhost:8080/"
        },
        "id": "5oFaC39nKB0K",
        "outputId": "43e8cc0b-d123-460e-9c72-a20726a21119"
      },
      "execution_count": 43,
      "outputs": [
        {
          "output_type": "stream",
          "name": "stdout",
          "text": [
            "+-----------+---------+------------------+-----------+--------------+-----------+-----------+-------------+------------------+\n",
            "|  longitude| latitude|housing_median_age|total_rooms|total_bedrooms| population| households|median_income|median_house_value|\n",
            "+-----------+---------+------------------+-----------+--------------+-----------+-----------+-------------+------------------+\n",
            "|-122.050000|37.370000|         27.000000|3885.000000|    661.000000|1537.000000| 606.000000|     6.608500|     344700.000000|\n",
            "|-118.300000|34.260000|         43.000000|1510.000000|    310.000000| 809.000000| 277.000000|     3.599000|     176500.000000|\n",
            "|-117.810000|33.780000|         27.000000|3589.000000|    507.000000|1484.000000| 495.000000|     5.793400|     270500.000000|\n",
            "|-118.360000|33.820000|         28.000000|  67.000000|     15.000000|  49.000000|  11.000000|     6.135900|     330000.000000|\n",
            "|-119.670000|36.330000|         19.000000|1241.000000|    244.000000| 850.000000| 237.000000|     2.937500|      81700.000000|\n",
            "|-119.560000|36.510000|         37.000000|1018.000000|    213.000000| 663.000000| 204.000000|     1.663500|      67000.000000|\n",
            "|-121.430000|38.630000|         43.000000|1009.000000|    225.000000| 604.000000| 218.000000|     1.664100|      67000.000000|\n",
            "|-120.650000|35.480000|         19.000000|2310.000000|    471.000000|1341.000000| 441.000000|     3.225000|     166900.000000|\n",
            "|-122.840000|38.400000|         15.000000|3080.000000|    617.000000|1446.000000| 599.000000|     3.669600|     194400.000000|\n",
            "|-118.020000|34.080000|         31.000000|2402.000000|    632.000000|2830.000000| 603.000000|     2.333300|     164200.000000|\n",
            "|-118.240000|33.980000|         45.000000| 972.000000|    249.000000|1288.000000| 261.000000|     2.205400|     125000.000000|\n",
            "|-119.120000|35.850000|         37.000000| 736.000000|    166.000000| 564.000000| 138.000000|     2.416700|      58300.000000|\n",
            "|-121.930000|37.250000|         36.000000|1089.000000|    182.000000| 535.000000| 170.000000|     4.690000|     252600.000000|\n",
            "|-117.030000|32.970000|         16.000000|3936.000000|    694.000000|1935.000000| 659.000000|     4.562500|     231200.000000|\n",
            "|-117.970000|33.730000|         27.000000|2097.000000|    325.000000|1217.000000| 331.000000|     5.712100|     222500.000000|\n",
            "|-117.990000|33.810000|         42.000000| 161.000000|     40.000000| 157.000000|  50.000000|     2.200000|     153100.000000|\n",
            "|-120.810000|37.530000|         15.000000| 570.000000|    123.000000| 189.000000| 107.000000|     1.875000|     181300.000000|\n",
            "|-121.200000|38.690000|         26.000000|3077.000000|    607.000000|1603.000000| 595.000000|     2.717400|     137500.000000|\n",
            "|-118.880000|34.210000|         26.000000|1590.000000|    196.000000| 654.000000| 199.000000|     6.585100|     300000.000000|\n",
            "|-122.590000|38.010000|         35.000000|8814.000000|   1307.000000|3450.000000|1258.000000|     6.172400|     414300.000000|\n",
            "+-----------+---------+------------------+-----------+--------------+-----------+-----------+-------------+------------------+\n",
            "only showing top 20 rows\n",
            "\n"
          ]
        }
      ]
    },
    {
      "cell_type": "markdown",
      "source": [
        "**Read Multiple CSV files**\n",
        "\n",
        "`df = spark.read.csv(\"path1, path2, path3\")`\n",
        "\n",
        "\n",
        "`df = spark.read.csv(\"Folder path\")`\n",
        "\n",
        "\n",
        "\n"
      ],
      "metadata": {
        "id": "owgKZ-TJKy6z"
      }
    },
    {
      "cell_type": "code",
      "source": [
        "df1 = spark.read.option(\"header\", True,) \\\n",
        ".csv(\"/content/sample_data/california_housing_test.csv\").show()\n"
      ],
      "metadata": {
        "colab": {
          "base_uri": "https://localhost:8080/"
        },
        "id": "x17f0hyVMDrL",
        "outputId": "c68c0d1e-e215-4653-b8e9-7a5700263947"
      },
      "execution_count": 44,
      "outputs": [
        {
          "output_type": "stream",
          "name": "stdout",
          "text": [
            "+-----------+---------+------------------+-----------+--------------+-----------+-----------+-------------+------------------+\n",
            "|  longitude| latitude|housing_median_age|total_rooms|total_bedrooms| population| households|median_income|median_house_value|\n",
            "+-----------+---------+------------------+-----------+--------------+-----------+-----------+-------------+------------------+\n",
            "|-122.050000|37.370000|         27.000000|3885.000000|    661.000000|1537.000000| 606.000000|     6.608500|     344700.000000|\n",
            "|-118.300000|34.260000|         43.000000|1510.000000|    310.000000| 809.000000| 277.000000|     3.599000|     176500.000000|\n",
            "|-117.810000|33.780000|         27.000000|3589.000000|    507.000000|1484.000000| 495.000000|     5.793400|     270500.000000|\n",
            "|-118.360000|33.820000|         28.000000|  67.000000|     15.000000|  49.000000|  11.000000|     6.135900|     330000.000000|\n",
            "|-119.670000|36.330000|         19.000000|1241.000000|    244.000000| 850.000000| 237.000000|     2.937500|      81700.000000|\n",
            "|-119.560000|36.510000|         37.000000|1018.000000|    213.000000| 663.000000| 204.000000|     1.663500|      67000.000000|\n",
            "|-121.430000|38.630000|         43.000000|1009.000000|    225.000000| 604.000000| 218.000000|     1.664100|      67000.000000|\n",
            "|-120.650000|35.480000|         19.000000|2310.000000|    471.000000|1341.000000| 441.000000|     3.225000|     166900.000000|\n",
            "|-122.840000|38.400000|         15.000000|3080.000000|    617.000000|1446.000000| 599.000000|     3.669600|     194400.000000|\n",
            "|-118.020000|34.080000|         31.000000|2402.000000|    632.000000|2830.000000| 603.000000|     2.333300|     164200.000000|\n",
            "|-118.240000|33.980000|         45.000000| 972.000000|    249.000000|1288.000000| 261.000000|     2.205400|     125000.000000|\n",
            "|-119.120000|35.850000|         37.000000| 736.000000|    166.000000| 564.000000| 138.000000|     2.416700|      58300.000000|\n",
            "|-121.930000|37.250000|         36.000000|1089.000000|    182.000000| 535.000000| 170.000000|     4.690000|     252600.000000|\n",
            "|-117.030000|32.970000|         16.000000|3936.000000|    694.000000|1935.000000| 659.000000|     4.562500|     231200.000000|\n",
            "|-117.970000|33.730000|         27.000000|2097.000000|    325.000000|1217.000000| 331.000000|     5.712100|     222500.000000|\n",
            "|-117.990000|33.810000|         42.000000| 161.000000|     40.000000| 157.000000|  50.000000|     2.200000|     153100.000000|\n",
            "|-120.810000|37.530000|         15.000000| 570.000000|    123.000000| 189.000000| 107.000000|     1.875000|     181300.000000|\n",
            "|-121.200000|38.690000|         26.000000|3077.000000|    607.000000|1603.000000| 595.000000|     2.717400|     137500.000000|\n",
            "|-118.880000|34.210000|         26.000000|1590.000000|    196.000000| 654.000000| 199.000000|     6.585100|     300000.000000|\n",
            "|-122.590000|38.010000|         35.000000|8814.000000|   1307.000000|3450.000000|1258.000000|     6.172400|     414300.000000|\n",
            "+-----------+---------+------------------+-----------+--------------+-----------+-----------+-------------+------------------+\n",
            "only showing top 20 rows\n",
            "\n"
          ]
        }
      ]
    },
    {
      "cell_type": "markdown",
      "source": [
        "# Read & Write Parquet File\n",
        "\n",
        "It is a columnar storage format that skips the non relevant data very quickly, making faster query execution"
      ],
      "metadata": {
        "id": "BGx7IHdUUC8Q"
      }
    },
    {
      "cell_type": "markdown",
      "source": [
        "**Read Parquet File into a Data Frame**"
      ],
      "metadata": {
        "id": "Bf5PCJ7IfngJ"
      }
    },
    {
      "cell_type": "code",
      "source": [
        "from pyspark.sql.types import StructType, StructField, StringType, IntegerType\n",
        "spark = SparkSession.builder.appName('SparkByExamples.com').getOrCreate()\n",
        "data1 = [(\"Smith\", \"Jone\", \"123\", \"M\", 20000),\n",
        "         (\"Nance\", \"watch\", \"456\", \"F\", 10000),\n",
        "         (\"Rani\", \"Singh\", \"234\", \"F\", 30000),\n",
        "         (\"Raju\", \"Thomas\", \"897\", \"M\", 15000),\n",
        "         (\"Ranjan\", \"Sharma\", \"862\", \"M\", 25000)\n",
        "]\n",
        "\n",
        "schema = StructType([ \\\n",
        "    StructField(\"FirstName\", StringType(), True), \\\n",
        "    StructField(\"LastName\", StringType(), True), \\\n",
        "    StructField(\"Id\", StringType(), True), \\\n",
        "    StructField(\"Gender\", StringType(), True), \\\n",
        "    StructField(\"Salary\", IntegerType(), True) \\\n",
        "])\n",
        "\n",
        "df = spark.createDataFrame(data=data1, schema =schema)\n",
        "df.printSchema()\n",
        "df.show()\n"
      ],
      "metadata": {
        "colab": {
          "base_uri": "https://localhost:8080/"
        },
        "id": "8m7pplwtiWcb",
        "outputId": "8eaf1d70-e706-43dc-f032-6363a7a4d439"
      },
      "execution_count": 58,
      "outputs": [
        {
          "output_type": "stream",
          "name": "stdout",
          "text": [
            "root\n",
            " |-- FirstName: string (nullable = true)\n",
            " |-- LastName: string (nullable = true)\n",
            " |-- Id: string (nullable = true)\n",
            " |-- Gender: string (nullable = true)\n",
            " |-- Salary: integer (nullable = true)\n",
            "\n",
            "+---------+--------+---+------+------+\n",
            "|FirstName|LastName| Id|Gender|Salary|\n",
            "+---------+--------+---+------+------+\n",
            "|    Smith|    Jone|123|     M| 20000|\n",
            "|    Nance|   watch|456|     F| 10000|\n",
            "|     Rani|   Singh|234|     F| 30000|\n",
            "|     Raju|  Thomas|897|     M| 15000|\n",
            "|   Ranjan|  Sharma|862|     M| 25000|\n",
            "+---------+--------+---+------+------+\n",
            "\n"
          ]
        }
      ]
    },
    {
      "cell_type": "markdown",
      "source": [
        "Writing a Data Frame into a Parquet File"
      ],
      "metadata": {
        "id": "wi1KYPkCj4lz"
      }
    },
    {
      "cell_type": "code",
      "source": [
        "df.write.parquet(\"/content/peoples.parquet\")"
      ],
      "metadata": {
        "id": "Bcv1z1lgiluA"
      },
      "execution_count": 65,
      "outputs": []
    },
    {
      "cell_type": "markdown",
      "source": [
        "Reading the data frame into Parquet File"
      ],
      "metadata": {
        "id": "5KByAomQj-_k"
      }
    },
    {
      "cell_type": "code",
      "source": [
        "parDF = spark.read.parquet(\"/content/peoples.parquet\")"
      ],
      "metadata": {
        "id": "ENIw4TukjNPk"
      },
      "execution_count": 66,
      "outputs": []
    },
    {
      "cell_type": "code",
      "source": [
        "parDF.show()"
      ],
      "metadata": {
        "colab": {
          "base_uri": "https://localhost:8080/"
        },
        "id": "ZHfErR9fjiID",
        "outputId": "556573fa-fe78-445a-a635-c238029e1fa4"
      },
      "execution_count": 67,
      "outputs": [
        {
          "output_type": "stream",
          "name": "stdout",
          "text": [
            "+---------+--------+---+------+------+\n",
            "|FirstName|LastName| Id|Gender|Salary|\n",
            "+---------+--------+---+------+------+\n",
            "|    Smith|    Jone|123|     M| 20000|\n",
            "|    Nance|   watch|456|     F| 10000|\n",
            "|     Rani|   Singh|234|     F| 30000|\n",
            "|     Raju|  Thomas|897|     M| 15000|\n",
            "|   Ranjan|  Sharma|862|     M| 25000|\n",
            "+---------+--------+---+------+------+\n",
            "\n"
          ]
        }
      ]
    },
    {
      "cell_type": "markdown",
      "source": [
        "**Executing SQL queries**\n",
        "\n",
        "Pyspark Sql provides to create temporary views on parquet files for executing sql queries. These views are available until your program exists."
      ],
      "metadata": {
        "id": "AiRbKOemkGtA"
      }
    },
    {
      "cell_type": "code",
      "source": [
        "parDF.createOrReplaceTempView(\"ParquetTable\")\n",
        "parkSQL = spark.sql(\"select * from ParquetTable where Salary >= 20000\").show()"
      ],
      "metadata": {
        "colab": {
          "base_uri": "https://localhost:8080/"
        },
        "id": "4_mtv6mNkOiB",
        "outputId": "9570efb7-f820-4ee6-a244-cc8d682f124b"
      },
      "execution_count": 69,
      "outputs": [
        {
          "output_type": "stream",
          "name": "stdout",
          "text": [
            "+---------+--------+---+------+------+\n",
            "|FirstName|LastName| Id|Gender|Salary|\n",
            "+---------+--------+---+------+------+\n",
            "|    Smith|    Jone|123|     M| 20000|\n",
            "|     Rani|   Singh|234|     F| 30000|\n",
            "|   Ranjan|  Sharma|862|     M| 25000|\n",
            "+---------+--------+---+------+------+\n",
            "\n"
          ]
        }
      ]
    },
    {
      "cell_type": "markdown",
      "source": [
        "Creating a table on Parquet File"
      ],
      "metadata": {
        "id": "PsdH6vXglV8H"
      }
    },
    {
      "cell_type": "code",
      "source": [
        "spark.sql(\"CREATE TEMPORARY VIEW PERSON USING parquet OPTIONS (path \\\"/content/peoples.parquet\\\")\")\n",
        "spark.sql(\"SELECT * FROM PERSON\").show()"
      ],
      "metadata": {
        "colab": {
          "base_uri": "https://localhost:8080/"
        },
        "id": "ZFVox9IWlqO2",
        "outputId": "d40b1ea3-b280-497d-eee0-9fe1fc35991c"
      },
      "execution_count": 70,
      "outputs": [
        {
          "output_type": "stream",
          "name": "stdout",
          "text": [
            "+---------+--------+---+------+------+\n",
            "|FirstName|LastName| Id|Gender|Salary|\n",
            "+---------+--------+---+------+------+\n",
            "|    Smith|    Jone|123|     M| 20000|\n",
            "|    Nance|   watch|456|     F| 10000|\n",
            "|     Rani|   Singh|234|     F| 30000|\n",
            "|     Raju|  Thomas|897|     M| 15000|\n",
            "|   Ranjan|  Sharma|862|     M| 25000|\n",
            "+---------+--------+---+------+------+\n",
            "\n"
          ]
        }
      ]
    },
    {
      "cell_type": "markdown",
      "source": [
        "Create Parquet Partition file"
      ],
      "metadata": {
        "id": "9mxDfpX5m2yk"
      }
    },
    {
      "cell_type": "code",
      "source": [
        "df.write.partitionBy(\"Gender\", \"Salary\").mode(\"overwrite\").parquet(\"/content/peoples2.parquet\")"
      ],
      "metadata": {
        "id": "JJyMZtD7m78-"
      },
      "execution_count": 71,
      "outputs": []
    },
    {
      "cell_type": "markdown",
      "source": [
        "Rerieving from a partitioned parquet"
      ],
      "metadata": {
        "id": "KEG5UpQSn8n_"
      }
    },
    {
      "cell_type": "code",
      "source": [
        "parDF2 = spark.read.parquet(\"/content/peoples2.parquet/Gender=M\")\n",
        "parDF2.show(truncate=False)"
      ],
      "metadata": {
        "colab": {
          "base_uri": "https://localhost:8080/"
        },
        "id": "3EGkSxlnoEQB",
        "outputId": "c9afd2a9-4834-42b9-b498-63c8130978f7"
      },
      "execution_count": 73,
      "outputs": [
        {
          "output_type": "stream",
          "name": "stdout",
          "text": [
            "+---------+--------+---+------+\n",
            "|FirstName|LastName|Id |Salary|\n",
            "+---------+--------+---+------+\n",
            "|Ranjan   |Sharma  |862|25000 |\n",
            "|Raju     |Thomas  |897|15000 |\n",
            "|Smith    |Jone    |123|20000 |\n",
            "+---------+--------+---+------+\n",
            "\n"
          ]
        }
      ]
    },
    {
      "cell_type": "markdown",
      "source": [
        "# Reading JSON File into DataFrame"
      ],
      "metadata": {
        "id": "XEiYmyXep2MS"
      }
    },
    {
      "cell_type": "code",
      "source": [
        "df1 = spark.read.json(\"/zipcode.json\")\n",
        "df1.printSchema()\n",
        "df1.show(truncate=False)"
      ],
      "metadata": {
        "colab": {
          "base_uri": "https://localhost:8080/"
        },
        "id": "Cr_nl_22p9bx",
        "outputId": "541676c2-4fb9-4392-c412-13c16b0aea45"
      },
      "execution_count": 75,
      "outputs": [
        {
          "output_type": "stream",
          "name": "stdout",
          "text": [
            "root\n",
            " |-- City: string (nullable = true)\n",
            " |-- Country: string (nullable = true)\n",
            " |-- Decommisioned: boolean (nullable = true)\n",
            " |-- EstimatedPopulation: long (nullable = true)\n",
            " |-- Lat: double (nullable = true)\n",
            " |-- Location: string (nullable = true)\n",
            " |-- LocationText: string (nullable = true)\n",
            " |-- LocationType: string (nullable = true)\n",
            " |-- Long: double (nullable = true)\n",
            " |-- Notes: string (nullable = true)\n",
            " |-- RecordNumber: long (nullable = true)\n",
            " |-- State: string (nullable = true)\n",
            " |-- TaxReturnsFiled: long (nullable = true)\n",
            " |-- TotalWages: long (nullable = true)\n",
            " |-- WorldRegion: string (nullable = true)\n",
            " |-- Xaxis: double (nullable = true)\n",
            " |-- Yaxis: double (nullable = true)\n",
            " |-- Zaxis: double (nullable = true)\n",
            " |-- ZipCodeType: string (nullable = true)\n",
            " |-- Zipcode: long (nullable = true)\n",
            " |-- _corrupt_record: string (nullable = true)\n",
            "\n",
            "+-------------------+-------+-------------+-------------------+-----+----------------------------+-----------------------+--------------+-------+-------------+------------+-----+---------------+----------+-----------+-----+-----+-----+-----------+-------+---------------+\n",
            "|City               |Country|Decommisioned|EstimatedPopulation|Lat  |Location                    |LocationText           |LocationType  |Long   |Notes        |RecordNumber|State|TaxReturnsFiled|TotalWages|WorldRegion|Xaxis|Yaxis|Zaxis|ZipCodeType|Zipcode|_corrupt_record|\n",
            "+-------------------+-------+-------------+-------------------+-----+----------------------------+-----------------------+--------------+-------+-------------+------------+-----+---------------+----------+-----------+-----+-----+-----+-----------+-------+---------------+\n",
            "|PARC PARQUE        |US     |false        |null               |17.96|NA-US-PR-PARC PARQUE        |Parc Parque, PR        |NOT ACCEPTABLE|-66.22 |null         |1           |PR   |null           |null      |NA         |0.38 |-0.87|0.3  |STANDARD   |704    |null           |\n",
            "|PASEO COSTA DEL SUR|US     |false        |null               |17.96|NA-US-PR-PASEO COSTA DEL SUR|Paseo Costa Del Sur, PR|NOT ACCEPTABLE|-66.22 |null         |2           |PR   |null           |null      |NA         |0.38 |-0.87|0.3  |STANDARD   |704    |null           |\n",
            "|BDA SAN LUIS       |US     |false        |null               |18.14|NA-US-PR-BDA SAN LUIS       |Bda San Luis, PR       |NOT ACCEPTABLE|-66.26 |null         |10          |PR   |null           |null      |NA         |0.38 |-0.86|0.31 |STANDARD   |709    |null           |\n",
            "|CINGULAR WIRELESS  |US     |false        |null               |32.72|NA-US-TX-CINGULAR WIRELESS  |Cingular Wireless, TX  |NOT ACCEPTABLE|-97.31 |null         |61391       |TX   |null           |null      |NA         |-0.1 |-0.83|0.54 |UNIQUE     |76166  |null           |\n",
            "|FORT WORTH         |US     |false        |4053               |32.75|NA-US-TX-FORT WORTH         |Fort Worth, TX         |PRIMARY       |-97.33 |null         |61392       |TX   |2126           |122396986 |NA         |-0.1 |-0.83|0.54 |STANDARD   |76177  |null           |\n",
            "|FT WORTH           |US     |false        |4053               |32.75|NA-US-TX-FT WORTH           |Ft Worth, TX           |ACCEPTABLE    |-97.33 |null         |61393       |TX   |2126           |122396986 |NA         |-0.1 |-0.83|0.54 |STANDARD   |76177  |null           |\n",
            "|URB EUGENE RICE    |US     |false        |null               |17.96|NA-US-PR-URB EUGENE RICE    |Urb Eugene Rice, PR    |NOT ACCEPTABLE|-66.22 |null         |4           |PR   |null           |null      |NA         |0.38 |-0.87|0.3  |STANDARD   |704    |null           |\n",
            "|MESA               |US     |false        |26883              |33.37|NA-US-AZ-MESA               |Mesa, AZ               |PRIMARY       |-111.64|no NWS data, |39827       |AZ   |14962          |563792730 |NA         |-0.3 |-0.77|0.55 |STANDARD   |85209  |null           |\n",
            "|MESA               |US     |false        |25446              |33.38|NA-US-AZ-MESA               |Mesa, AZ               |PRIMARY       |-111.84|null         |39828       |AZ   |14374          |471000465 |NA         |-0.31|-0.77|0.55 |STANDARD   |85210  |null           |\n",
            "|HILLIARD           |US     |false        |7443               |30.69|NA-US-FL-HILLIARD           |Hilliard, FL           |PRIMARY       |-81.92 |null         |49345       |FL   |3922           |133112149 |NA         |0.12 |-0.85|0.51 |STANDARD   |32046  |null           |\n",
            "|HOLDER             |US     |false        |null               |28.96|NA-US-FL-HOLDER             |Holder, FL             |PRIMARY       |-82.41 |null         |49346       |FL   |null           |null      |NA         |0.11 |-0.86|0.48 |PO BOX     |34445  |null           |\n",
            "|HOLT               |US     |false        |2190               |30.72|NA-US-FL-HOLT               |Holt, FL               |PRIMARY       |-86.67 |null         |49347       |FL   |1207           |36395913  |NA         |0.04 |-0.85|0.51 |STANDARD   |32564  |null           |\n",
            "|HOMOSASSA          |US     |false        |null               |28.78|NA-US-FL-HOMOSASSA          |Homosassa, FL          |PRIMARY       |-82.61 |null         |49348       |FL   |null           |null      |NA         |0.11 |-0.86|0.48 |PO BOX     |34487  |null           |\n",
            "|BDA SAN LUIS       |US     |false        |null               |18.14|NA-US-PR-BDA SAN LUIS       |Bda San Luis, PR       |NOT ACCEPTABLE|-66.26 |null         |10          |PR   |null           |null      |NA         |0.38 |-0.86|0.31 |STANDARD   |708    |null           |\n",
            "|SECT LANAUSSE      |US     |false        |null               |17.96|NA-US-PR-SECT LANAUSSE      |Sect Lanausse, PR      |NOT ACCEPTABLE|-66.22 |null         |3           |PR   |null           |null      |NA         |0.38 |-0.87|0.3  |STANDARD   |704    |null           |\n",
            "|SPRING GARDEN      |US     |false        |null               |33.97|NA-US-AL-SPRING GARDEN      |Spring Garden, AL      |PRIMARY       |-85.55 |null         |54354       |AL   |null           |null      |NA         |0.06 |-0.82|0.55 |PO BOX     |36275  |null           |\n",
            "|SPRINGVILLE        |US     |false        |7845               |33.77|NA-US-AL-SPRINGVILLE        |Springville, AL        |PRIMARY       |-86.47 |null         |54355       |AL   |4046           |172127599 |NA         |0.05 |-0.82|0.55 |STANDARD   |35146  |null           |\n",
            "|SPRUCE PINE        |US     |false        |1209               |34.37|NA-US-AL-SPRUCE PINE        |Spruce Pine, AL        |PRIMARY       |-87.69 |null         |54356       |AL   |610            |18525517  |NA         |0.03 |-0.82|0.56 |STANDARD   |35585  |null           |\n",
            "|ASH HILL           |US     |false        |1666               |36.4 |NA-US-NC-ASH HILL           |Ash Hill, NC           |NOT ACCEPTABLE|-80.56 |null         |76511       |NC   |842            |28876493  |NA         |0.13 |-0.79|0.59 |STANDARD   |27007  |null           |\n",
            "|ASHEBORO           |US     |false        |15228              |35.71|NA-US-NC-ASHEBORO           |Asheboro, NC           |PRIMARY       |-79.81 |null         |76512       |NC   |8355           |215474318 |NA         |0.14 |-0.79|0.58 |STANDARD   |27203  |null           |\n",
            "+-------------------+-------+-------------+-------------------+-----+----------------------------+-----------------------+--------------+-------+-------------+------------+-----+---------------+----------+-----------+-----+-----+-----+-----------+-------+---------------+\n",
            "only showing top 20 rows\n",
            "\n"
          ]
        }
      ]
    },
    {
      "cell_type": "markdown",
      "source": [
        "Read JSON file from Multi line"
      ],
      "metadata": {
        "id": "BxGaChlUq7Wl"
      }
    },
    {
      "cell_type": "code",
      "source": [
        "multiline_df = spark.read.option(\"multiline\", \"true\") \\\n",
        ".json(\"/multiline-zipcode.json\")\n",
        "multiline_df.show()"
      ],
      "metadata": {
        "colab": {
          "base_uri": "https://localhost:8080/"
        },
        "id": "lzNXhKA5q-T1",
        "outputId": "f51de444-4e06-4e4c-b9fd-e4eb4136aa88"
      },
      "execution_count": 76,
      "outputs": [
        {
          "output_type": "stream",
          "name": "stdout",
          "text": [
            "+-------------------+------------+-----+-----------+-------+\n",
            "|               City|RecordNumber|State|ZipCodeType|Zipcode|\n",
            "+-------------------+------------+-----+-----------+-------+\n",
            "|PASEO COSTA DEL SUR|           2|   PR|   STANDARD|    704|\n",
            "|       BDA SAN LUIS|          10|   PR|   STANDARD|    709|\n",
            "+-------------------+------------+-----+-----------+-------+\n",
            "\n"
          ]
        }
      ]
    },
    {
      "cell_type": "markdown",
      "source": [
        "Reading Multiple files at a time"
      ],
      "metadata": {
        "id": "Iz2rhpcorbfq"
      }
    },
    {
      "cell_type": "code",
      "source": [
        "df2 = spark.read.json(['/zipcode.json', '/multiline-zipcode.json'])\n",
        "df2.show()"
      ],
      "metadata": {
        "colab": {
          "base_uri": "https://localhost:8080/"
        },
        "id": "UrzHBDkArfJK",
        "outputId": "cd2ebc36-4dcc-4e42-fe49-687adf1f3544"
      },
      "execution_count": 77,
      "outputs": [
        {
          "output_type": "stream",
          "name": "stdout",
          "text": [
            "+-------------------+-------+-------------+-------------------+-----+--------------------+--------------------+--------------+-------+-------------+------------+-----+---------------+----------+-----------+-----+-----+-----+-----------+-------+---------------+\n",
            "|               City|Country|Decommisioned|EstimatedPopulation|  Lat|            Location|        LocationText|  LocationType|   Long|        Notes|RecordNumber|State|TaxReturnsFiled|TotalWages|WorldRegion|Xaxis|Yaxis|Zaxis|ZipCodeType|Zipcode|_corrupt_record|\n",
            "+-------------------+-------+-------------+-------------------+-----+--------------------+--------------------+--------------+-------+-------------+------------+-----+---------------+----------+-----------+-----+-----+-----+-----------+-------+---------------+\n",
            "|        PARC PARQUE|     US|        false|               null|17.96|NA-US-PR-PARC PARQUE|     Parc Parque, PR|NOT ACCEPTABLE| -66.22|         null|           1|   PR|           null|      null|         NA| 0.38|-0.87|  0.3|   STANDARD|    704|           null|\n",
            "|PASEO COSTA DEL SUR|     US|        false|               null|17.96|NA-US-PR-PASEO CO...|Paseo Costa Del S...|NOT ACCEPTABLE| -66.22|         null|           2|   PR|           null|      null|         NA| 0.38|-0.87|  0.3|   STANDARD|    704|           null|\n",
            "|       BDA SAN LUIS|     US|        false|               null|18.14|NA-US-PR-BDA SAN ...|    Bda San Luis, PR|NOT ACCEPTABLE| -66.26|         null|          10|   PR|           null|      null|         NA| 0.38|-0.86| 0.31|   STANDARD|    709|           null|\n",
            "|  CINGULAR WIRELESS|     US|        false|               null|32.72|NA-US-TX-CINGULAR...|Cingular Wireless...|NOT ACCEPTABLE| -97.31|         null|       61391|   TX|           null|      null|         NA| -0.1|-0.83| 0.54|     UNIQUE|  76166|           null|\n",
            "|         FORT WORTH|     US|        false|               4053|32.75| NA-US-TX-FORT WORTH|      Fort Worth, TX|       PRIMARY| -97.33|         null|       61392|   TX|           2126| 122396986|         NA| -0.1|-0.83| 0.54|   STANDARD|  76177|           null|\n",
            "|           FT WORTH|     US|        false|               4053|32.75|   NA-US-TX-FT WORTH|        Ft Worth, TX|    ACCEPTABLE| -97.33|         null|       61393|   TX|           2126| 122396986|         NA| -0.1|-0.83| 0.54|   STANDARD|  76177|           null|\n",
            "|    URB EUGENE RICE|     US|        false|               null|17.96|NA-US-PR-URB EUGE...| Urb Eugene Rice, PR|NOT ACCEPTABLE| -66.22|         null|           4|   PR|           null|      null|         NA| 0.38|-0.87|  0.3|   STANDARD|    704|           null|\n",
            "|               MESA|     US|        false|              26883|33.37|       NA-US-AZ-MESA|            Mesa, AZ|       PRIMARY|-111.64|no NWS data, |       39827|   AZ|          14962| 563792730|         NA| -0.3|-0.77| 0.55|   STANDARD|  85209|           null|\n",
            "|               MESA|     US|        false|              25446|33.38|       NA-US-AZ-MESA|            Mesa, AZ|       PRIMARY|-111.84|         null|       39828|   AZ|          14374| 471000465|         NA|-0.31|-0.77| 0.55|   STANDARD|  85210|           null|\n",
            "|           HILLIARD|     US|        false|               7443|30.69|   NA-US-FL-HILLIARD|        Hilliard, FL|       PRIMARY| -81.92|         null|       49345|   FL|           3922| 133112149|         NA| 0.12|-0.85| 0.51|   STANDARD|  32046|           null|\n",
            "|             HOLDER|     US|        false|               null|28.96|     NA-US-FL-HOLDER|          Holder, FL|       PRIMARY| -82.41|         null|       49346|   FL|           null|      null|         NA| 0.11|-0.86| 0.48|     PO BOX|  34445|           null|\n",
            "|               HOLT|     US|        false|               2190|30.72|       NA-US-FL-HOLT|            Holt, FL|       PRIMARY| -86.67|         null|       49347|   FL|           1207|  36395913|         NA| 0.04|-0.85| 0.51|   STANDARD|  32564|           null|\n",
            "|          HOMOSASSA|     US|        false|               null|28.78|  NA-US-FL-HOMOSASSA|       Homosassa, FL|       PRIMARY| -82.61|         null|       49348|   FL|           null|      null|         NA| 0.11|-0.86| 0.48|     PO BOX|  34487|           null|\n",
            "|       BDA SAN LUIS|     US|        false|               null|18.14|NA-US-PR-BDA SAN ...|    Bda San Luis, PR|NOT ACCEPTABLE| -66.26|         null|          10|   PR|           null|      null|         NA| 0.38|-0.86| 0.31|   STANDARD|    708|           null|\n",
            "|      SECT LANAUSSE|     US|        false|               null|17.96|NA-US-PR-SECT LAN...|   Sect Lanausse, PR|NOT ACCEPTABLE| -66.22|         null|           3|   PR|           null|      null|         NA| 0.38|-0.87|  0.3|   STANDARD|    704|           null|\n",
            "|      SPRING GARDEN|     US|        false|               null|33.97|NA-US-AL-SPRING G...|   Spring Garden, AL|       PRIMARY| -85.55|         null|       54354|   AL|           null|      null|         NA| 0.06|-0.82| 0.55|     PO BOX|  36275|           null|\n",
            "|        SPRINGVILLE|     US|        false|               7845|33.77|NA-US-AL-SPRINGVILLE|     Springville, AL|       PRIMARY| -86.47|         null|       54355|   AL|           4046| 172127599|         NA| 0.05|-0.82| 0.55|   STANDARD|  35146|           null|\n",
            "|        SPRUCE PINE|     US|        false|               1209|34.37|NA-US-AL-SPRUCE PINE|     Spruce Pine, AL|       PRIMARY| -87.69|         null|       54356|   AL|            610|  18525517|         NA| 0.03|-0.82| 0.56|   STANDARD|  35585|           null|\n",
            "|           ASH HILL|     US|        false|               1666| 36.4|   NA-US-NC-ASH HILL|        Ash Hill, NC|NOT ACCEPTABLE| -80.56|         null|       76511|   NC|            842|  28876493|         NA| 0.13|-0.79| 0.59|   STANDARD|  27007|           null|\n",
            "|           ASHEBORO|     US|        false|              15228|35.71|   NA-US-NC-ASHEBORO|        Asheboro, NC|       PRIMARY| -79.81|         null|       76512|   NC|           8355| 215474318|         NA| 0.14|-0.79| 0.58|   STANDARD|  27203|           null|\n",
            "+-------------------+-------+-------------+-------------------+-----+--------------------+--------------------+--------------+-------+-------------+------------+-----+---------------+----------+-----------+-----+-----+-----+-----------+-------+---------------+\n",
            "only showing top 20 rows\n",
            "\n"
          ]
        }
      ]
    },
    {
      "cell_type": "markdown",
      "source": [
        "PySpark SQL also provides a way to read a JSON file by creating a temporary view directly from the reading file using spark.sqlContext.sql(“load JSON to temporary view”)"
      ],
      "metadata": {
        "id": "TaCYSqfOsT6H"
      }
    },
    {
      "cell_type": "code",
      "source": [
        "\n",
        "spark.sql(\"CREATE OR REPLACE TEMPORARY VIEW zipcode USING json OPTIONS\" + \n",
        "      \" (path '/zipcode.json')\")\n",
        "spark.sql(\"select * from zipcode\").show()\n"
      ],
      "metadata": {
        "colab": {
          "base_uri": "https://localhost:8080/"
        },
        "id": "VOs-gCbutI6B",
        "outputId": "dcf206cf-99b4-4a5e-85f1-455c127dc7b5"
      },
      "execution_count": 83,
      "outputs": [
        {
          "output_type": "stream",
          "name": "stdout",
          "text": [
            "+-------------------+-------+-------------+-------------------+-----+--------------------+--------------------+--------------+-------+-------------+------------+-----+---------------+----------+-----------+-----+-----+-----+-----------+-------+---------------+\n",
            "|               City|Country|Decommisioned|EstimatedPopulation|  Lat|            Location|        LocationText|  LocationType|   Long|        Notes|RecordNumber|State|TaxReturnsFiled|TotalWages|WorldRegion|Xaxis|Yaxis|Zaxis|ZipCodeType|Zipcode|_corrupt_record|\n",
            "+-------------------+-------+-------------+-------------------+-----+--------------------+--------------------+--------------+-------+-------------+------------+-----+---------------+----------+-----------+-----+-----+-----+-----------+-------+---------------+\n",
            "|        PARC PARQUE|     US|        false|               null|17.96|NA-US-PR-PARC PARQUE|     Parc Parque, PR|NOT ACCEPTABLE| -66.22|         null|           1|   PR|           null|      null|         NA| 0.38|-0.87|  0.3|   STANDARD|    704|           null|\n",
            "|PASEO COSTA DEL SUR|     US|        false|               null|17.96|NA-US-PR-PASEO CO...|Paseo Costa Del S...|NOT ACCEPTABLE| -66.22|         null|           2|   PR|           null|      null|         NA| 0.38|-0.87|  0.3|   STANDARD|    704|           null|\n",
            "|       BDA SAN LUIS|     US|        false|               null|18.14|NA-US-PR-BDA SAN ...|    Bda San Luis, PR|NOT ACCEPTABLE| -66.26|         null|          10|   PR|           null|      null|         NA| 0.38|-0.86| 0.31|   STANDARD|    709|           null|\n",
            "|  CINGULAR WIRELESS|     US|        false|               null|32.72|NA-US-TX-CINGULAR...|Cingular Wireless...|NOT ACCEPTABLE| -97.31|         null|       61391|   TX|           null|      null|         NA| -0.1|-0.83| 0.54|     UNIQUE|  76166|           null|\n",
            "|         FORT WORTH|     US|        false|               4053|32.75| NA-US-TX-FORT WORTH|      Fort Worth, TX|       PRIMARY| -97.33|         null|       61392|   TX|           2126| 122396986|         NA| -0.1|-0.83| 0.54|   STANDARD|  76177|           null|\n",
            "|           FT WORTH|     US|        false|               4053|32.75|   NA-US-TX-FT WORTH|        Ft Worth, TX|    ACCEPTABLE| -97.33|         null|       61393|   TX|           2126| 122396986|         NA| -0.1|-0.83| 0.54|   STANDARD|  76177|           null|\n",
            "|    URB EUGENE RICE|     US|        false|               null|17.96|NA-US-PR-URB EUGE...| Urb Eugene Rice, PR|NOT ACCEPTABLE| -66.22|         null|           4|   PR|           null|      null|         NA| 0.38|-0.87|  0.3|   STANDARD|    704|           null|\n",
            "|               MESA|     US|        false|              26883|33.37|       NA-US-AZ-MESA|            Mesa, AZ|       PRIMARY|-111.64|no NWS data, |       39827|   AZ|          14962| 563792730|         NA| -0.3|-0.77| 0.55|   STANDARD|  85209|           null|\n",
            "|               MESA|     US|        false|              25446|33.38|       NA-US-AZ-MESA|            Mesa, AZ|       PRIMARY|-111.84|         null|       39828|   AZ|          14374| 471000465|         NA|-0.31|-0.77| 0.55|   STANDARD|  85210|           null|\n",
            "|           HILLIARD|     US|        false|               7443|30.69|   NA-US-FL-HILLIARD|        Hilliard, FL|       PRIMARY| -81.92|         null|       49345|   FL|           3922| 133112149|         NA| 0.12|-0.85| 0.51|   STANDARD|  32046|           null|\n",
            "|             HOLDER|     US|        false|               null|28.96|     NA-US-FL-HOLDER|          Holder, FL|       PRIMARY| -82.41|         null|       49346|   FL|           null|      null|         NA| 0.11|-0.86| 0.48|     PO BOX|  34445|           null|\n",
            "|               HOLT|     US|        false|               2190|30.72|       NA-US-FL-HOLT|            Holt, FL|       PRIMARY| -86.67|         null|       49347|   FL|           1207|  36395913|         NA| 0.04|-0.85| 0.51|   STANDARD|  32564|           null|\n",
            "|          HOMOSASSA|     US|        false|               null|28.78|  NA-US-FL-HOMOSASSA|       Homosassa, FL|       PRIMARY| -82.61|         null|       49348|   FL|           null|      null|         NA| 0.11|-0.86| 0.48|     PO BOX|  34487|           null|\n",
            "|       BDA SAN LUIS|     US|        false|               null|18.14|NA-US-PR-BDA SAN ...|    Bda San Luis, PR|NOT ACCEPTABLE| -66.26|         null|          10|   PR|           null|      null|         NA| 0.38|-0.86| 0.31|   STANDARD|    708|           null|\n",
            "|      SECT LANAUSSE|     US|        false|               null|17.96|NA-US-PR-SECT LAN...|   Sect Lanausse, PR|NOT ACCEPTABLE| -66.22|         null|           3|   PR|           null|      null|         NA| 0.38|-0.87|  0.3|   STANDARD|    704|           null|\n",
            "|      SPRING GARDEN|     US|        false|               null|33.97|NA-US-AL-SPRING G...|   Spring Garden, AL|       PRIMARY| -85.55|         null|       54354|   AL|           null|      null|         NA| 0.06|-0.82| 0.55|     PO BOX|  36275|           null|\n",
            "|        SPRINGVILLE|     US|        false|               7845|33.77|NA-US-AL-SPRINGVILLE|     Springville, AL|       PRIMARY| -86.47|         null|       54355|   AL|           4046| 172127599|         NA| 0.05|-0.82| 0.55|   STANDARD|  35146|           null|\n",
            "|        SPRUCE PINE|     US|        false|               1209|34.37|NA-US-AL-SPRUCE PINE|     Spruce Pine, AL|       PRIMARY| -87.69|         null|       54356|   AL|            610|  18525517|         NA| 0.03|-0.82| 0.56|   STANDARD|  35585|           null|\n",
            "|           ASH HILL|     US|        false|               1666| 36.4|   NA-US-NC-ASH HILL|        Ash Hill, NC|NOT ACCEPTABLE| -80.56|         null|       76511|   NC|            842|  28876493|         NA| 0.13|-0.79| 0.59|   STANDARD|  27007|           null|\n",
            "|           ASHEBORO|     US|        false|              15228|35.71|   NA-US-NC-ASHEBORO|        Asheboro, NC|       PRIMARY| -79.81|         null|       76512|   NC|           8355| 215474318|         NA| 0.14|-0.79| 0.58|   STANDARD|  27203|           null|\n",
            "+-------------------+-------+-------------+-------------------+-----+--------------------+--------------------+--------------+-------+-------------+------------+-----+---------------+----------+-----------+-----+-----+-----+-----------+-------+---------------+\n",
            "only showing top 20 rows\n",
            "\n"
          ]
        }
      ]
    }
  ]
}