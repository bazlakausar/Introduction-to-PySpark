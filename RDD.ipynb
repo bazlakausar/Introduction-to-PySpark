{
  "nbformat": 4,
  "nbformat_minor": 0,
  "metadata": {
    "colab": {
      "name": "RDD.ipynb",
      "provenance": [],
      "collapsed_sections": []
    },
    "kernelspec": {
      "name": "python3",
      "display_name": "Python 3"
    },
    "language_info": {
      "name": "python"
    }
  },
  "cells": [
    {
      "cell_type": "code",
      "source": [
        "from google.colab import drive\n",
        "drive.mount('/content/drive')"
      ],
      "metadata": {
        "colab": {
          "base_uri": "https://localhost:8080/"
        },
        "id": "67XltQOoeRDv",
        "outputId": "d0e82bd6-9573-4d2d-f32f-c8e835167189"
      },
      "execution_count": null,
      "outputs": [
        {
          "output_type": "stream",
          "name": "stdout",
          "text": [
            "Mounted at /content/drive\n"
          ]
        }
      ]
    },
    {
      "cell_type": "code",
      "source": [
        "!apt-get install openjdk-8-jdk-headless -qq > /dev/null\n"
      ],
      "metadata": {
        "id": "ht5kWA5neSdH"
      },
      "execution_count": null,
      "outputs": []
    },
    {
      "cell_type": "code",
      "source": [
        "!wget -q https://archive.apache.org/dist/spark/spark-3.0.0/spark-3.0.0-bin-hadoop3.2.tgz\n",
        "\n"
      ],
      "metadata": {
        "id": "MXL9VbvCeSyp"
      },
      "execution_count": null,
      "outputs": []
    },
    {
      "cell_type": "code",
      "source": [
        "!tar xf spark-3.0.0-bin-hadoop3.2.tgz\n"
      ],
      "metadata": {
        "id": "Q4eWikMZeS7t"
      },
      "execution_count": null,
      "outputs": []
    },
    {
      "cell_type": "code",
      "source": [
        "!pip install -q findspark\n"
      ],
      "metadata": {
        "id": "DCbrnlc5eS-b"
      },
      "execution_count": null,
      "outputs": []
    },
    {
      "cell_type": "code",
      "source": [
        "import os\n",
        "os.environ[\"JAVA_HOME\"] = \"/usr/lib/jvm/java-8-openjdk-amd64\"\n",
        "os.environ[\"SPARK_HOME\"] = \"/content/spark-3.0.0-bin-hadoop3.2\""
      ],
      "metadata": {
        "id": "KgLUFdyteTB9"
      },
      "execution_count": null,
      "outputs": []
    },
    {
      "cell_type": "code",
      "source": [
        "import findspark\n",
        "findspark.init()"
      ],
      "metadata": {
        "id": "3L-_ibxIeTFE"
      },
      "execution_count": null,
      "outputs": []
    },
    {
      "cell_type": "code",
      "source": [
        "findspark.find()"
      ],
      "metadata": {
        "colab": {
          "base_uri": "https://localhost:8080/",
          "height": 36
        },
        "id": "0yqjz0-6eTIk",
        "outputId": "850dead8-97ed-4e39-fd6b-6622475eb9b9"
      },
      "execution_count": null,
      "outputs": [
        {
          "output_type": "execute_result",
          "data": {
            "application/vnd.google.colaboratory.intrinsic+json": {
              "type": "string"
            },
            "text/plain": [
              "'/content/spark-3.0.0-bin-hadoop3.2/python/pyspark'"
            ]
          },
          "metadata": {},
          "execution_count": 19
        }
      ]
    },
    {
      "cell_type": "code",
      "source": [
        "from pyspark.sql import SparkSession\n",
        "\n",
        "spark = SparkSession.builder\\\n",
        "        .master(\"local\")\\\n",
        "        .appName(\"Colab\")\\\n",
        "        .config('spark.ui.port', '4050')\\\n",
        "        .getOrCreate()"
      ],
      "metadata": {
        "id": "HC2gRvqieofr"
      },
      "execution_count": null,
      "outputs": []
    },
    {
      "cell_type": "markdown",
      "source": [
        " Creating bold text an RDD using parallelize() method"
      ],
      "metadata": {
        "id": "5I0oYbuMjuRK"
      }
    },
    {
      "cell_type": "code",
      "source": [
        "data = [1,2,3,4,5,6,7,8,9,10,11,12]\n",
        "rdd = spark.sparkContext.parallelize(data)\n"
      ],
      "metadata": {
        "id": "hm8czvYBgIF4"
      },
      "execution_count": null,
      "outputs": []
    },
    {
      "cell_type": "code",
      "source": [
        "rdd.collect()"
      ],
      "metadata": {
        "colab": {
          "base_uri": "https://localhost:8080/"
        },
        "id": "63MSJvJCjPHk",
        "outputId": "000ae236-5520-4659-98a2-4b54718d3671"
      },
      "execution_count": null,
      "outputs": [
        {
          "output_type": "execute_result",
          "data": {
            "text/plain": [
              "[1, 2, 3, 4, 5, 6, 7, 8, 9, 10, 11, 12]"
            ]
          },
          "metadata": {},
          "execution_count": 26
        }
      ]
    },
    {
      "cell_type": "code",
      "source": [
        "\n",
        "#Create RDD from external Data source\n",
        "rdd2 = spark.sparkContext.textFile(\"/content/textFile\")\n"
      ],
      "metadata": {
        "id": "tARJPDPMknGZ"
      },
      "execution_count": null,
      "outputs": []
    },
    {
      "cell_type": "code",
      "source": [
        "rdd2.collect()"
      ],
      "metadata": {
        "id": "tHlUp6mLla6u"
      },
      "execution_count": null,
      "outputs": []
    },
    {
      "cell_type": "code",
      "source": [
        "rdd = spark.sparkContext.parallelize([],4)"
      ],
      "metadata": {
        "id": "YKwUWPnXmQXx"
      },
      "execution_count": null,
      "outputs": []
    },
    {
      "cell_type": "code",
      "source": [
        "rdd.collect()"
      ],
      "metadata": {
        "colab": {
          "base_uri": "https://localhost:8080/"
        },
        "id": "s7c-481Gmhzf",
        "outputId": "0a7e817a-c81f-4f69-89da-43cb273a6159"
      },
      "execution_count": null,
      "outputs": [
        {
          "output_type": "execute_result",
          "data": {
            "text/plain": [
              "[]"
            ]
          },
          "metadata": {},
          "execution_count": 39
        }
      ]
    },
    {
      "cell_type": "code",
      "source": [
        "data = [1,2,3,4,5,6,7,8,9,10,11,12]\n",
        "rdd = spark.sparkContext.parallelize([data],4)"
      ],
      "metadata": {
        "id": "enGpdch2mpOF"
      },
      "execution_count": null,
      "outputs": []
    },
    {
      "cell_type": "code",
      "source": [
        "rdd.collect()"
      ],
      "metadata": {
        "id": "5cRw3tYFm3n-"
      },
      "execution_count": null,
      "outputs": []
    },
    {
      "cell_type": "code",
      "source": [
        "\n",
        "print(\"initial partition count:\"+str(rdd.getNumPartitions()))\n",
        "#Outputs: initial partition count:2\n"
      ],
      "metadata": {
        "colab": {
          "base_uri": "https://localhost:8080/"
        },
        "id": "Xl7VDzGinXaY",
        "outputId": "8fcfa056-860e-4941-9a56-90d9a634ba1b"
      },
      "execution_count": null,
      "outputs": [
        {
          "output_type": "stream",
          "name": "stdout",
          "text": [
            "initial partition count:4\n"
          ]
        }
      ]
    },
    {
      "cell_type": "markdown",
      "source": [
        "# Repartition & Coalesce"
      ],
      "metadata": {
        "id": "DP4mpCplnlz_"
      }
    },
    {
      "cell_type": "code",
      "source": [
        "reparRdd = rdd.repartition(4)\n",
        "print(\"re-partition count\"+str(reparRdd.getNumPartitions()))"
      ],
      "metadata": {
        "colab": {
          "base_uri": "https://localhost:8080/"
        },
        "id": "-hzZBl3joycF",
        "outputId": "c41822b5-f975-4c3e-92cd-57423ece6194"
      },
      "execution_count": null,
      "outputs": [
        {
          "output_type": "stream",
          "name": "stdout",
          "text": [
            "re-partition count4\n"
          ]
        }
      ]
    },
    {
      "cell_type": "code",
      "source": [
        "rdd2 = spark.sparkContext.parallelize((0,20))\n",
        "print(\"From local[5]\"+str(rdd2.getNumPartitions()))"
      ],
      "metadata": {
        "colab": {
          "base_uri": "https://localhost:8080/"
        },
        "id": "lDt-joscqfLL",
        "outputId": "6ddb38ec-097a-4935-9d93-a603469a1769"
      },
      "execution_count": null,
      "outputs": [
        {
          "output_type": "stream",
          "name": "stdout",
          "text": [
            "From local[5]1\n"
          ]
        }
      ]
    },
    {
      "cell_type": "code",
      "source": [
        "rdd2.collect()"
      ],
      "metadata": {
        "colab": {
          "base_uri": "https://localhost:8080/"
        },
        "id": "YVXzMx4Vqq9S",
        "outputId": "faad164b-da2b-4586-a5ae-e8367aef2462"
      },
      "execution_count": null,
      "outputs": [
        {
          "output_type": "execute_result",
          "data": {
            "text/plain": [
              "[0, 20]"
            ]
          },
          "metadata": {},
          "execution_count": 47
        }
      ]
    },
    {
      "cell_type": "code",
      "source": [
        "rdd1 = spark.sparkContext.textFile(\"/content/textFile.txt\")"
      ],
      "metadata": {
        "id": "JujDH4yzquz4"
      },
      "execution_count": null,
      "outputs": []
    },
    {
      "cell_type": "code",
      "source": [
        "rdd1.collect()"
      ],
      "metadata": {
        "id": "QEJyxOPasvnI"
      },
      "execution_count": null,
      "outputs": []
    },
    {
      "cell_type": "markdown",
      "source": [
        "# RDD TRANSFORMATIONS"
      ],
      "metadata": {
        "id": "nIhf5hxOwQyd"
      }
    },
    {
      "cell_type": "markdown",
      "source": [
        "flatMap – flatMap() transformation flattens the RDD after applying the function and returns a new RDD. On the below example, first, it splits each record by space in an RDD and finally flattens it. Resulting RDD consists of a single word on each record.\n",
        "\n"
      ],
      "metadata": {
        "id": "N_2JUBU7wOkC"
      }
    },
    {
      "cell_type": "code",
      "source": [
        "rdd2 = rdd1.flatMap(lambda x: x.split(\" \"))"
      ],
      "metadata": {
        "id": "LN9mX_PHtxez"
      },
      "execution_count": null,
      "outputs": []
    },
    {
      "cell_type": "code",
      "source": [
        "rdd2.collect()"
      ],
      "metadata": {
        "colab": {
          "base_uri": "https://localhost:8080/"
        },
        "id": "UgjMWHVEt7IJ",
        "outputId": "3bf4ee97-565b-4110-84a4-41a5d48cd22e"
      },
      "execution_count": null,
      "outputs": [
        {
          "output_type": "execute_result",
          "data": {
            "text/plain": [
              "['Project',\n",
              " 'Gutenberg’s',\n",
              " 'Alice’s',\n",
              " 'Adventures',\n",
              " 'in',\n",
              " 'Wonderland',\n",
              " 'by',\n",
              " 'Lewis',\n",
              " 'Carroll',\n",
              " 'This',\n",
              " 'eBook',\n",
              " 'is',\n",
              " 'for',\n",
              " 'the',\n",
              " 'use',\n",
              " 'of',\n",
              " 'anyone',\n",
              " 'anywhere',\n",
              " 'at',\n",
              " 'no',\n",
              " 'cost',\n",
              " 'and',\n",
              " 'with',\n",
              " 'Alice’s',\n",
              " 'Adventures',\n",
              " 'in',\n",
              " 'Wonderland',\n",
              " 'by',\n",
              " 'Lewis',\n",
              " 'Carroll',\n",
              " 'This',\n",
              " 'eBook',\n",
              " 'is',\n",
              " 'for',\n",
              " 'the',\n",
              " 'use',\n",
              " 'of',\n",
              " 'anyone',\n",
              " 'anywhere',\n",
              " 'at',\n",
              " 'no',\n",
              " 'cost',\n",
              " 'and',\n",
              " 'with',\n",
              " 'This',\n",
              " 'eBook',\n",
              " 'is',\n",
              " 'for',\n",
              " 'the',\n",
              " 'use',\n",
              " 'of',\n",
              " 'anyone',\n",
              " 'anywhere',\n",
              " 'at',\n",
              " 'no',\n",
              " 'cost',\n",
              " 'and',\n",
              " 'with',\n",
              " 'Project',\n",
              " 'Gutenberg’s',\n",
              " 'Alice’s',\n",
              " 'Adventures',\n",
              " 'in',\n",
              " 'Wonderland',\n",
              " 'by',\n",
              " 'Lewis',\n",
              " 'Carroll',\n",
              " 'This',\n",
              " 'eBook',\n",
              " 'is',\n",
              " 'for',\n",
              " 'the',\n",
              " 'use',\n",
              " 'of',\n",
              " 'anyone',\n",
              " 'anywhere',\n",
              " 'at',\n",
              " 'no',\n",
              " 'cost',\n",
              " 'and',\n",
              " 'with',\n",
              " 'Alice’s',\n",
              " 'Adventures',\n",
              " 'in',\n",
              " 'Wonderland',\n",
              " 'by',\n",
              " 'Lewis',\n",
              " 'Carroll',\n",
              " 'This',\n",
              " 'eBook',\n",
              " 'is',\n",
              " 'for',\n",
              " 'the',\n",
              " 'use',\n",
              " 'of',\n",
              " 'anyone',\n",
              " 'anywhere',\n",
              " 'at',\n",
              " 'no',\n",
              " 'cost',\n",
              " 'and',\n",
              " 'with',\n",
              " 'This',\n",
              " 'eBook',\n",
              " 'is',\n",
              " 'for',\n",
              " 'the',\n",
              " 'use',\n",
              " 'of',\n",
              " 'anyone',\n",
              " 'anywhere',\n",
              " 'at',\n",
              " 'no',\n",
              " 'cost',\n",
              " 'and',\n",
              " 'with',\n",
              " 'Project',\n",
              " 'Gutenberg’s',\n",
              " 'Alice’s',\n",
              " 'Adventures',\n",
              " 'in',\n",
              " 'Wonderland',\n",
              " 'by',\n",
              " 'Lewis',\n",
              " 'Carroll',\n",
              " 'This',\n",
              " 'eBook',\n",
              " 'is',\n",
              " 'for',\n",
              " 'the',\n",
              " 'use',\n",
              " 'of',\n",
              " 'anyone',\n",
              " 'anywhere',\n",
              " 'at',\n",
              " 'no',\n",
              " 'cost',\n",
              " 'and',\n",
              " 'with',\n",
              " 'Alice’s',\n",
              " 'Adventures',\n",
              " 'in',\n",
              " 'Wonderland',\n",
              " 'by',\n",
              " 'Lewis',\n",
              " 'Carroll',\n",
              " 'This',\n",
              " 'eBook',\n",
              " 'is',\n",
              " 'for',\n",
              " 'the',\n",
              " 'use',\n",
              " 'of',\n",
              " 'anyone',\n",
              " 'anywhere',\n",
              " 'at',\n",
              " 'no',\n",
              " 'cost',\n",
              " 'and',\n",
              " 'with',\n",
              " 'This',\n",
              " 'eBook',\n",
              " 'is',\n",
              " 'for',\n",
              " 'the',\n",
              " 'use',\n",
              " 'of',\n",
              " 'anyone',\n",
              " 'anywhere',\n",
              " 'at',\n",
              " 'no',\n",
              " 'cost',\n",
              " 'and',\n",
              " 'with',\n",
              " 'Project',\n",
              " 'Gutenberg’s',\n",
              " 'Alice’s',\n",
              " 'Adventures',\n",
              " 'in',\n",
              " 'Wonderland',\n",
              " 'by',\n",
              " 'Lewis',\n",
              " 'Carroll',\n",
              " 'This',\n",
              " 'eBook',\n",
              " 'is',\n",
              " 'for',\n",
              " 'the',\n",
              " 'use',\n",
              " 'of',\n",
              " 'anyone',\n",
              " 'anywhere',\n",
              " 'at',\n",
              " 'no',\n",
              " 'cost',\n",
              " 'and',\n",
              " 'with',\n",
              " 'Alice’s',\n",
              " 'Adventures',\n",
              " 'in',\n",
              " 'Wonderland',\n",
              " 'by',\n",
              " 'Lewis',\n",
              " 'Carroll',\n",
              " 'This',\n",
              " 'eBook',\n",
              " 'is',\n",
              " 'for',\n",
              " 'the',\n",
              " 'use',\n",
              " 'of',\n",
              " 'anyone',\n",
              " 'anywhere',\n",
              " 'at',\n",
              " 'no',\n",
              " 'cost',\n",
              " 'and',\n",
              " 'with',\n",
              " 'This',\n",
              " 'eBook',\n",
              " 'is',\n",
              " 'for',\n",
              " 'the',\n",
              " 'use',\n",
              " 'of',\n",
              " 'anyone',\n",
              " 'anywhere',\n",
              " 'at',\n",
              " 'no',\n",
              " 'cost',\n",
              " 'and',\n",
              " 'with',\n",
              " 'Project',\n",
              " 'Gutenberg’s',\n",
              " 'Alice’s',\n",
              " 'Adventures',\n",
              " 'in',\n",
              " 'Wonderland',\n",
              " 'by',\n",
              " 'Lewis',\n",
              " 'Carroll',\n",
              " 'This',\n",
              " 'eBook',\n",
              " 'is',\n",
              " 'for',\n",
              " 'the',\n",
              " 'use',\n",
              " 'of',\n",
              " 'anyone',\n",
              " 'anywhere',\n",
              " 'at',\n",
              " 'no',\n",
              " 'cost',\n",
              " 'and',\n",
              " 'with',\n",
              " 'Alice’s',\n",
              " 'Adventures',\n",
              " 'in',\n",
              " 'Wonderland',\n",
              " 'by',\n",
              " 'Lewis',\n",
              " 'Carroll',\n",
              " 'This',\n",
              " 'eBook',\n",
              " 'is',\n",
              " 'for',\n",
              " 'the',\n",
              " 'use',\n",
              " 'of',\n",
              " 'anyone',\n",
              " 'anywhere',\n",
              " 'at',\n",
              " 'no',\n",
              " 'cost',\n",
              " 'and',\n",
              " 'with',\n",
              " 'This',\n",
              " 'eBook',\n",
              " 'is',\n",
              " 'for',\n",
              " 'the',\n",
              " 'use',\n",
              " 'of',\n",
              " 'anyone',\n",
              " 'anywhere',\n",
              " 'at',\n",
              " 'no',\n",
              " 'cost',\n",
              " 'and',\n",
              " 'with',\n",
              " 'Project',\n",
              " 'Gutenberg’s',\n",
              " 'Alice’s',\n",
              " 'Adventures',\n",
              " 'in',\n",
              " 'Wonderland',\n",
              " 'by',\n",
              " 'Lewis',\n",
              " 'Carroll',\n",
              " 'This',\n",
              " 'eBook',\n",
              " 'is',\n",
              " 'for',\n",
              " 'the',\n",
              " 'use',\n",
              " 'of',\n",
              " 'anyone',\n",
              " 'anywhere',\n",
              " 'at',\n",
              " 'no',\n",
              " 'cost',\n",
              " 'and',\n",
              " 'with',\n",
              " 'Alice’s',\n",
              " 'Adventures',\n",
              " 'in',\n",
              " 'Wonderland',\n",
              " 'by',\n",
              " 'Lewis',\n",
              " 'Carroll',\n",
              " 'This',\n",
              " 'eBook',\n",
              " 'is',\n",
              " 'for',\n",
              " 'the',\n",
              " 'use',\n",
              " 'of',\n",
              " 'anyone',\n",
              " 'anywhere',\n",
              " 'at',\n",
              " 'no',\n",
              " 'cost',\n",
              " 'and',\n",
              " 'with',\n",
              " 'This',\n",
              " 'eBook',\n",
              " 'is',\n",
              " 'for',\n",
              " 'the',\n",
              " 'use',\n",
              " 'of',\n",
              " 'anyone',\n",
              " 'anywhere',\n",
              " 'at',\n",
              " 'no',\n",
              " 'cost',\n",
              " 'and',\n",
              " 'with',\n",
              " 'Project',\n",
              " 'Gutenberg’s',\n",
              " 'Alice’s',\n",
              " 'Adventures',\n",
              " 'in',\n",
              " 'Wonderland',\n",
              " 'by',\n",
              " 'Lewis',\n",
              " 'Carroll',\n",
              " 'This',\n",
              " 'eBook',\n",
              " 'is',\n",
              " 'for',\n",
              " 'the',\n",
              " 'use',\n",
              " 'of',\n",
              " 'anyone',\n",
              " 'anywhere',\n",
              " 'at',\n",
              " 'no',\n",
              " 'cost',\n",
              " 'and',\n",
              " 'with',\n",
              " 'Alice’s',\n",
              " 'Adventures',\n",
              " 'in',\n",
              " 'Wonderland',\n",
              " 'by',\n",
              " 'Lewis',\n",
              " 'Carroll',\n",
              " 'This',\n",
              " 'eBook',\n",
              " 'is',\n",
              " 'for',\n",
              " 'the',\n",
              " 'use',\n",
              " 'of',\n",
              " 'anyone',\n",
              " 'anywhere',\n",
              " 'at',\n",
              " 'no',\n",
              " 'cost',\n",
              " 'and',\n",
              " 'with',\n",
              " 'This',\n",
              " 'eBook',\n",
              " 'is',\n",
              " 'for',\n",
              " 'the',\n",
              " 'use',\n",
              " 'of',\n",
              " 'anyone',\n",
              " 'anywhere',\n",
              " 'at',\n",
              " 'no',\n",
              " 'cost',\n",
              " 'and',\n",
              " 'with',\n",
              " 'Project',\n",
              " 'Gutenberg’s',\n",
              " 'Alice’s',\n",
              " 'Adventures',\n",
              " 'in',\n",
              " 'Wonderland',\n",
              " 'by',\n",
              " 'Lewis',\n",
              " 'Carroll',\n",
              " 'This',\n",
              " 'eBook',\n",
              " 'is',\n",
              " 'for',\n",
              " 'the',\n",
              " 'use',\n",
              " 'of',\n",
              " 'anyone',\n",
              " 'anywhere',\n",
              " 'at',\n",
              " 'no',\n",
              " 'cost',\n",
              " 'and',\n",
              " 'with',\n",
              " 'Alice’s',\n",
              " 'Adventures',\n",
              " 'in',\n",
              " 'Wonderland',\n",
              " 'by',\n",
              " 'Lewis',\n",
              " 'Carroll',\n",
              " 'This',\n",
              " 'eBook',\n",
              " 'is',\n",
              " 'for',\n",
              " 'the',\n",
              " 'use',\n",
              " 'of',\n",
              " 'anyone',\n",
              " 'anywhere',\n",
              " 'at',\n",
              " 'no',\n",
              " 'cost',\n",
              " 'and',\n",
              " 'with',\n",
              " 'This',\n",
              " 'eBook',\n",
              " 'is',\n",
              " 'for',\n",
              " 'the',\n",
              " 'use',\n",
              " 'of',\n",
              " 'anyone',\n",
              " 'anywhere',\n",
              " 'at',\n",
              " 'no',\n",
              " 'cost',\n",
              " 'and',\n",
              " 'with',\n",
              " 'Project',\n",
              " 'Gutenberg’s',\n",
              " 'Alice’s',\n",
              " 'Adventures',\n",
              " 'in',\n",
              " 'Wonderland',\n",
              " 'by',\n",
              " 'Lewis',\n",
              " 'Carroll',\n",
              " 'This',\n",
              " 'eBook',\n",
              " 'is',\n",
              " 'for',\n",
              " 'the',\n",
              " 'use',\n",
              " 'of',\n",
              " 'anyone',\n",
              " 'anywhere',\n",
              " 'at',\n",
              " 'no',\n",
              " 'cost',\n",
              " 'and',\n",
              " 'with',\n",
              " 'Alice’s',\n",
              " 'Adventures',\n",
              " 'in',\n",
              " 'Wonderland',\n",
              " 'by',\n",
              " 'Lewis',\n",
              " 'Carroll',\n",
              " 'This',\n",
              " 'eBook',\n",
              " 'is',\n",
              " 'for',\n",
              " 'the',\n",
              " 'use',\n",
              " 'of',\n",
              " 'anyone',\n",
              " 'anywhere',\n",
              " 'at',\n",
              " 'no',\n",
              " 'cost',\n",
              " 'and',\n",
              " 'with',\n",
              " 'This',\n",
              " 'eBook',\n",
              " 'is',\n",
              " 'for',\n",
              " 'the',\n",
              " 'use',\n",
              " 'of',\n",
              " 'anyone',\n",
              " 'anywhere',\n",
              " 'at',\n",
              " 'no',\n",
              " 'cost',\n",
              " 'and',\n",
              " 'with',\n",
              " '']"
            ]
          },
          "metadata": {},
          "execution_count": 52
        }
      ]
    },
    {
      "cell_type": "markdown",
      "source": [
        "map – map() transformation is used the apply any complex operations like adding a column, updating a column e.t.c, the output of map transformations would always have the same number of records as input.\n",
        "\n",
        "In our word count example, we are adding a new column with value 1 for each word, the result of the RDD is PairRDDFunctions which contains key-value pairs, word of type String as Key and 1 of type Int as value.\n",
        "\n"
      ],
      "metadata": {
        "id": "E25i4ItqwF5-"
      }
    },
    {
      "cell_type": "code",
      "source": [
        "rdd3 = rdd2.map(lambda x: (x,1))"
      ],
      "metadata": {
        "id": "WxqBKPuDuDOL"
      },
      "execution_count": null,
      "outputs": []
    },
    {
      "cell_type": "code",
      "source": [
        "rdd3.collect()"
      ],
      "metadata": {
        "colab": {
          "base_uri": "https://localhost:8080/"
        },
        "id": "KM8JAvT2urhW",
        "outputId": "556f74dd-0b69-4064-b38c-4dcbc3cf70a7"
      },
      "execution_count": null,
      "outputs": [
        {
          "output_type": "execute_result",
          "data": {
            "text/plain": [
              "[('Project', 1),\n",
              " ('Gutenberg’s', 1),\n",
              " ('Alice’s', 1),\n",
              " ('Adventures', 1),\n",
              " ('in', 1),\n",
              " ('Wonderland', 1),\n",
              " ('by', 1),\n",
              " ('Lewis', 1),\n",
              " ('Carroll', 1),\n",
              " ('This', 1),\n",
              " ('eBook', 1),\n",
              " ('is', 1),\n",
              " ('for', 1),\n",
              " ('the', 1),\n",
              " ('use', 1),\n",
              " ('of', 1),\n",
              " ('anyone', 1),\n",
              " ('anywhere', 1),\n",
              " ('at', 1),\n",
              " ('no', 1),\n",
              " ('cost', 1),\n",
              " ('and', 1),\n",
              " ('with', 1),\n",
              " ('Alice’s', 1),\n",
              " ('Adventures', 1),\n",
              " ('in', 1),\n",
              " ('Wonderland', 1),\n",
              " ('by', 1),\n",
              " ('Lewis', 1),\n",
              " ('Carroll', 1),\n",
              " ('This', 1),\n",
              " ('eBook', 1),\n",
              " ('is', 1),\n",
              " ('for', 1),\n",
              " ('the', 1),\n",
              " ('use', 1),\n",
              " ('of', 1),\n",
              " ('anyone', 1),\n",
              " ('anywhere', 1),\n",
              " ('at', 1),\n",
              " ('no', 1),\n",
              " ('cost', 1),\n",
              " ('and', 1),\n",
              " ('with', 1),\n",
              " ('This', 1),\n",
              " ('eBook', 1),\n",
              " ('is', 1),\n",
              " ('for', 1),\n",
              " ('the', 1),\n",
              " ('use', 1),\n",
              " ('of', 1),\n",
              " ('anyone', 1),\n",
              " ('anywhere', 1),\n",
              " ('at', 1),\n",
              " ('no', 1),\n",
              " ('cost', 1),\n",
              " ('and', 1),\n",
              " ('with', 1),\n",
              " ('Project', 1),\n",
              " ('Gutenberg’s', 1),\n",
              " ('Alice’s', 1),\n",
              " ('Adventures', 1),\n",
              " ('in', 1),\n",
              " ('Wonderland', 1),\n",
              " ('by', 1),\n",
              " ('Lewis', 1),\n",
              " ('Carroll', 1),\n",
              " ('This', 1),\n",
              " ('eBook', 1),\n",
              " ('is', 1),\n",
              " ('for', 1),\n",
              " ('the', 1),\n",
              " ('use', 1),\n",
              " ('of', 1),\n",
              " ('anyone', 1),\n",
              " ('anywhere', 1),\n",
              " ('at', 1),\n",
              " ('no', 1),\n",
              " ('cost', 1),\n",
              " ('and', 1),\n",
              " ('with', 1),\n",
              " ('Alice’s', 1),\n",
              " ('Adventures', 1),\n",
              " ('in', 1),\n",
              " ('Wonderland', 1),\n",
              " ('by', 1),\n",
              " ('Lewis', 1),\n",
              " ('Carroll', 1),\n",
              " ('This', 1),\n",
              " ('eBook', 1),\n",
              " ('is', 1),\n",
              " ('for', 1),\n",
              " ('the', 1),\n",
              " ('use', 1),\n",
              " ('of', 1),\n",
              " ('anyone', 1),\n",
              " ('anywhere', 1),\n",
              " ('at', 1),\n",
              " ('no', 1),\n",
              " ('cost', 1),\n",
              " ('and', 1),\n",
              " ('with', 1),\n",
              " ('This', 1),\n",
              " ('eBook', 1),\n",
              " ('is', 1),\n",
              " ('for', 1),\n",
              " ('the', 1),\n",
              " ('use', 1),\n",
              " ('of', 1),\n",
              " ('anyone', 1),\n",
              " ('anywhere', 1),\n",
              " ('at', 1),\n",
              " ('no', 1),\n",
              " ('cost', 1),\n",
              " ('and', 1),\n",
              " ('with', 1),\n",
              " ('Project', 1),\n",
              " ('Gutenberg’s', 1),\n",
              " ('Alice’s', 1),\n",
              " ('Adventures', 1),\n",
              " ('in', 1),\n",
              " ('Wonderland', 1),\n",
              " ('by', 1),\n",
              " ('Lewis', 1),\n",
              " ('Carroll', 1),\n",
              " ('This', 1),\n",
              " ('eBook', 1),\n",
              " ('is', 1),\n",
              " ('for', 1),\n",
              " ('the', 1),\n",
              " ('use', 1),\n",
              " ('of', 1),\n",
              " ('anyone', 1),\n",
              " ('anywhere', 1),\n",
              " ('at', 1),\n",
              " ('no', 1),\n",
              " ('cost', 1),\n",
              " ('and', 1),\n",
              " ('with', 1),\n",
              " ('Alice’s', 1),\n",
              " ('Adventures', 1),\n",
              " ('in', 1),\n",
              " ('Wonderland', 1),\n",
              " ('by', 1),\n",
              " ('Lewis', 1),\n",
              " ('Carroll', 1),\n",
              " ('This', 1),\n",
              " ('eBook', 1),\n",
              " ('is', 1),\n",
              " ('for', 1),\n",
              " ('the', 1),\n",
              " ('use', 1),\n",
              " ('of', 1),\n",
              " ('anyone', 1),\n",
              " ('anywhere', 1),\n",
              " ('at', 1),\n",
              " ('no', 1),\n",
              " ('cost', 1),\n",
              " ('and', 1),\n",
              " ('with', 1),\n",
              " ('This', 1),\n",
              " ('eBook', 1),\n",
              " ('is', 1),\n",
              " ('for', 1),\n",
              " ('the', 1),\n",
              " ('use', 1),\n",
              " ('of', 1),\n",
              " ('anyone', 1),\n",
              " ('anywhere', 1),\n",
              " ('at', 1),\n",
              " ('no', 1),\n",
              " ('cost', 1),\n",
              " ('and', 1),\n",
              " ('with', 1),\n",
              " ('Project', 1),\n",
              " ('Gutenberg’s', 1),\n",
              " ('Alice’s', 1),\n",
              " ('Adventures', 1),\n",
              " ('in', 1),\n",
              " ('Wonderland', 1),\n",
              " ('by', 1),\n",
              " ('Lewis', 1),\n",
              " ('Carroll', 1),\n",
              " ('This', 1),\n",
              " ('eBook', 1),\n",
              " ('is', 1),\n",
              " ('for', 1),\n",
              " ('the', 1),\n",
              " ('use', 1),\n",
              " ('of', 1),\n",
              " ('anyone', 1),\n",
              " ('anywhere', 1),\n",
              " ('at', 1),\n",
              " ('no', 1),\n",
              " ('cost', 1),\n",
              " ('and', 1),\n",
              " ('with', 1),\n",
              " ('Alice’s', 1),\n",
              " ('Adventures', 1),\n",
              " ('in', 1),\n",
              " ('Wonderland', 1),\n",
              " ('by', 1),\n",
              " ('Lewis', 1),\n",
              " ('Carroll', 1),\n",
              " ('This', 1),\n",
              " ('eBook', 1),\n",
              " ('is', 1),\n",
              " ('for', 1),\n",
              " ('the', 1),\n",
              " ('use', 1),\n",
              " ('of', 1),\n",
              " ('anyone', 1),\n",
              " ('anywhere', 1),\n",
              " ('at', 1),\n",
              " ('no', 1),\n",
              " ('cost', 1),\n",
              " ('and', 1),\n",
              " ('with', 1),\n",
              " ('This', 1),\n",
              " ('eBook', 1),\n",
              " ('is', 1),\n",
              " ('for', 1),\n",
              " ('the', 1),\n",
              " ('use', 1),\n",
              " ('of', 1),\n",
              " ('anyone', 1),\n",
              " ('anywhere', 1),\n",
              " ('at', 1),\n",
              " ('no', 1),\n",
              " ('cost', 1),\n",
              " ('and', 1),\n",
              " ('with', 1),\n",
              " ('Project', 1),\n",
              " ('Gutenberg’s', 1),\n",
              " ('Alice’s', 1),\n",
              " ('Adventures', 1),\n",
              " ('in', 1),\n",
              " ('Wonderland', 1),\n",
              " ('by', 1),\n",
              " ('Lewis', 1),\n",
              " ('Carroll', 1),\n",
              " ('This', 1),\n",
              " ('eBook', 1),\n",
              " ('is', 1),\n",
              " ('for', 1),\n",
              " ('the', 1),\n",
              " ('use', 1),\n",
              " ('of', 1),\n",
              " ('anyone', 1),\n",
              " ('anywhere', 1),\n",
              " ('at', 1),\n",
              " ('no', 1),\n",
              " ('cost', 1),\n",
              " ('and', 1),\n",
              " ('with', 1),\n",
              " ('Alice’s', 1),\n",
              " ('Adventures', 1),\n",
              " ('in', 1),\n",
              " ('Wonderland', 1),\n",
              " ('by', 1),\n",
              " ('Lewis', 1),\n",
              " ('Carroll', 1),\n",
              " ('This', 1),\n",
              " ('eBook', 1),\n",
              " ('is', 1),\n",
              " ('for', 1),\n",
              " ('the', 1),\n",
              " ('use', 1),\n",
              " ('of', 1),\n",
              " ('anyone', 1),\n",
              " ('anywhere', 1),\n",
              " ('at', 1),\n",
              " ('no', 1),\n",
              " ('cost', 1),\n",
              " ('and', 1),\n",
              " ('with', 1),\n",
              " ('This', 1),\n",
              " ('eBook', 1),\n",
              " ('is', 1),\n",
              " ('for', 1),\n",
              " ('the', 1),\n",
              " ('use', 1),\n",
              " ('of', 1),\n",
              " ('anyone', 1),\n",
              " ('anywhere', 1),\n",
              " ('at', 1),\n",
              " ('no', 1),\n",
              " ('cost', 1),\n",
              " ('and', 1),\n",
              " ('with', 1),\n",
              " ('Project', 1),\n",
              " ('Gutenberg’s', 1),\n",
              " ('Alice’s', 1),\n",
              " ('Adventures', 1),\n",
              " ('in', 1),\n",
              " ('Wonderland', 1),\n",
              " ('by', 1),\n",
              " ('Lewis', 1),\n",
              " ('Carroll', 1),\n",
              " ('This', 1),\n",
              " ('eBook', 1),\n",
              " ('is', 1),\n",
              " ('for', 1),\n",
              " ('the', 1),\n",
              " ('use', 1),\n",
              " ('of', 1),\n",
              " ('anyone', 1),\n",
              " ('anywhere', 1),\n",
              " ('at', 1),\n",
              " ('no', 1),\n",
              " ('cost', 1),\n",
              " ('and', 1),\n",
              " ('with', 1),\n",
              " ('Alice’s', 1),\n",
              " ('Adventures', 1),\n",
              " ('in', 1),\n",
              " ('Wonderland', 1),\n",
              " ('by', 1),\n",
              " ('Lewis', 1),\n",
              " ('Carroll', 1),\n",
              " ('This', 1),\n",
              " ('eBook', 1),\n",
              " ('is', 1),\n",
              " ('for', 1),\n",
              " ('the', 1),\n",
              " ('use', 1),\n",
              " ('of', 1),\n",
              " ('anyone', 1),\n",
              " ('anywhere', 1),\n",
              " ('at', 1),\n",
              " ('no', 1),\n",
              " ('cost', 1),\n",
              " ('and', 1),\n",
              " ('with', 1),\n",
              " ('This', 1),\n",
              " ('eBook', 1),\n",
              " ('is', 1),\n",
              " ('for', 1),\n",
              " ('the', 1),\n",
              " ('use', 1),\n",
              " ('of', 1),\n",
              " ('anyone', 1),\n",
              " ('anywhere', 1),\n",
              " ('at', 1),\n",
              " ('no', 1),\n",
              " ('cost', 1),\n",
              " ('and', 1),\n",
              " ('with', 1),\n",
              " ('Project', 1),\n",
              " ('Gutenberg’s', 1),\n",
              " ('Alice’s', 1),\n",
              " ('Adventures', 1),\n",
              " ('in', 1),\n",
              " ('Wonderland', 1),\n",
              " ('by', 1),\n",
              " ('Lewis', 1),\n",
              " ('Carroll', 1),\n",
              " ('This', 1),\n",
              " ('eBook', 1),\n",
              " ('is', 1),\n",
              " ('for', 1),\n",
              " ('the', 1),\n",
              " ('use', 1),\n",
              " ('of', 1),\n",
              " ('anyone', 1),\n",
              " ('anywhere', 1),\n",
              " ('at', 1),\n",
              " ('no', 1),\n",
              " ('cost', 1),\n",
              " ('and', 1),\n",
              " ('with', 1),\n",
              " ('Alice’s', 1),\n",
              " ('Adventures', 1),\n",
              " ('in', 1),\n",
              " ('Wonderland', 1),\n",
              " ('by', 1),\n",
              " ('Lewis', 1),\n",
              " ('Carroll', 1),\n",
              " ('This', 1),\n",
              " ('eBook', 1),\n",
              " ('is', 1),\n",
              " ('for', 1),\n",
              " ('the', 1),\n",
              " ('use', 1),\n",
              " ('of', 1),\n",
              " ('anyone', 1),\n",
              " ('anywhere', 1),\n",
              " ('at', 1),\n",
              " ('no', 1),\n",
              " ('cost', 1),\n",
              " ('and', 1),\n",
              " ('with', 1),\n",
              " ('This', 1),\n",
              " ('eBook', 1),\n",
              " ('is', 1),\n",
              " ('for', 1),\n",
              " ('the', 1),\n",
              " ('use', 1),\n",
              " ('of', 1),\n",
              " ('anyone', 1),\n",
              " ('anywhere', 1),\n",
              " ('at', 1),\n",
              " ('no', 1),\n",
              " ('cost', 1),\n",
              " ('and', 1),\n",
              " ('with', 1),\n",
              " ('Project', 1),\n",
              " ('Gutenberg’s', 1),\n",
              " ('Alice’s', 1),\n",
              " ('Adventures', 1),\n",
              " ('in', 1),\n",
              " ('Wonderland', 1),\n",
              " ('by', 1),\n",
              " ('Lewis', 1),\n",
              " ('Carroll', 1),\n",
              " ('This', 1),\n",
              " ('eBook', 1),\n",
              " ('is', 1),\n",
              " ('for', 1),\n",
              " ('the', 1),\n",
              " ('use', 1),\n",
              " ('of', 1),\n",
              " ('anyone', 1),\n",
              " ('anywhere', 1),\n",
              " ('at', 1),\n",
              " ('no', 1),\n",
              " ('cost', 1),\n",
              " ('and', 1),\n",
              " ('with', 1),\n",
              " ('Alice’s', 1),\n",
              " ('Adventures', 1),\n",
              " ('in', 1),\n",
              " ('Wonderland', 1),\n",
              " ('by', 1),\n",
              " ('Lewis', 1),\n",
              " ('Carroll', 1),\n",
              " ('This', 1),\n",
              " ('eBook', 1),\n",
              " ('is', 1),\n",
              " ('for', 1),\n",
              " ('the', 1),\n",
              " ('use', 1),\n",
              " ('of', 1),\n",
              " ('anyone', 1),\n",
              " ('anywhere', 1),\n",
              " ('at', 1),\n",
              " ('no', 1),\n",
              " ('cost', 1),\n",
              " ('and', 1),\n",
              " ('with', 1),\n",
              " ('This', 1),\n",
              " ('eBook', 1),\n",
              " ('is', 1),\n",
              " ('for', 1),\n",
              " ('the', 1),\n",
              " ('use', 1),\n",
              " ('of', 1),\n",
              " ('anyone', 1),\n",
              " ('anywhere', 1),\n",
              " ('at', 1),\n",
              " ('no', 1),\n",
              " ('cost', 1),\n",
              " ('and', 1),\n",
              " ('with', 1),\n",
              " ('Project', 1),\n",
              " ('Gutenberg’s', 1),\n",
              " ('Alice’s', 1),\n",
              " ('Adventures', 1),\n",
              " ('in', 1),\n",
              " ('Wonderland', 1),\n",
              " ('by', 1),\n",
              " ('Lewis', 1),\n",
              " ('Carroll', 1),\n",
              " ('This', 1),\n",
              " ('eBook', 1),\n",
              " ('is', 1),\n",
              " ('for', 1),\n",
              " ('the', 1),\n",
              " ('use', 1),\n",
              " ('of', 1),\n",
              " ('anyone', 1),\n",
              " ('anywhere', 1),\n",
              " ('at', 1),\n",
              " ('no', 1),\n",
              " ('cost', 1),\n",
              " ('and', 1),\n",
              " ('with', 1),\n",
              " ('Alice’s', 1),\n",
              " ('Adventures', 1),\n",
              " ('in', 1),\n",
              " ('Wonderland', 1),\n",
              " ('by', 1),\n",
              " ('Lewis', 1),\n",
              " ('Carroll', 1),\n",
              " ('This', 1),\n",
              " ('eBook', 1),\n",
              " ('is', 1),\n",
              " ('for', 1),\n",
              " ('the', 1),\n",
              " ('use', 1),\n",
              " ('of', 1),\n",
              " ('anyone', 1),\n",
              " ('anywhere', 1),\n",
              " ('at', 1),\n",
              " ('no', 1),\n",
              " ('cost', 1),\n",
              " ('and', 1),\n",
              " ('with', 1),\n",
              " ('This', 1),\n",
              " ('eBook', 1),\n",
              " ('is', 1),\n",
              " ('for', 1),\n",
              " ('the', 1),\n",
              " ('use', 1),\n",
              " ('of', 1),\n",
              " ('anyone', 1),\n",
              " ('anywhere', 1),\n",
              " ('at', 1),\n",
              " ('no', 1),\n",
              " ('cost', 1),\n",
              " ('and', 1),\n",
              " ('with', 1),\n",
              " ('', 1)]"
            ]
          },
          "metadata": {},
          "execution_count": 54
        }
      ]
    },
    {
      "cell_type": "markdown",
      "source": [
        "reduceByKey – reduceByKey() merges the values for each key with the function specified. In our example, it reduces the word string by applying the sum function on value. The result of our RDD contains unique words and their count. \n",
        "\n"
      ],
      "metadata": {
        "id": "R7TfEIRUv9nG"
      }
    },
    {
      "cell_type": "code",
      "source": [
        "rdd4 = rdd3.reduceByKey(lambda a,b: a+b)"
      ],
      "metadata": {
        "id": "5HgtBe5JvRla"
      },
      "execution_count": null,
      "outputs": []
    },
    {
      "cell_type": "code",
      "source": [
        "rdd4.collect()"
      ],
      "metadata": {
        "colab": {
          "base_uri": "https://localhost:8080/"
        },
        "id": "7hACTX3OvfZd",
        "outputId": "0e990d1c-4c8d-4988-fd27-894de9de0100"
      },
      "execution_count": null,
      "outputs": [
        {
          "output_type": "execute_result",
          "data": {
            "text/plain": [
              "[('Project', 9),\n",
              " ('Gutenberg’s', 9),\n",
              " ('Alice’s', 18),\n",
              " ('Adventures', 18),\n",
              " ('in', 18),\n",
              " ('Wonderland', 18),\n",
              " ('by', 18),\n",
              " ('Lewis', 18),\n",
              " ('Carroll', 18),\n",
              " ('This', 27),\n",
              " ('eBook', 27),\n",
              " ('is', 27),\n",
              " ('for', 27),\n",
              " ('the', 27),\n",
              " ('use', 27),\n",
              " ('of', 27),\n",
              " ('anyone', 27),\n",
              " ('anywhere', 27),\n",
              " ('at', 27),\n",
              " ('no', 27),\n",
              " ('cost', 27),\n",
              " ('and', 27),\n",
              " ('with', 27),\n",
              " ('', 1)]"
            ]
          },
          "metadata": {},
          "execution_count": 56
        }
      ]
    },
    {
      "cell_type": "markdown",
      "source": [
        "sortByKey – sortByKey() transformation is used to sort RDD elements on key. In our example, first, we convert RDD[(String,Int]) to RDD[(Int, String]) using map transformation and apply sortByKey which ideally does sort on an integer value. And finally, foreach with println statements returns all words in RDD and their count as key-value pair."
      ],
      "metadata": {
        "id": "Jkj9ODrEv3wX"
      }
    },
    {
      "cell_type": "code",
      "source": [
        "rdd5 = rdd4.map(lambda x: (x[1],x[0])).sortByKey()\n",
        "rdd5.collect()"
      ],
      "metadata": {
        "colab": {
          "base_uri": "https://localhost:8080/"
        },
        "id": "e-nybv9ewfv5",
        "outputId": "398d9050-3dc6-4927-b29d-7b9194c6e119"
      },
      "execution_count": null,
      "outputs": [
        {
          "output_type": "execute_result",
          "data": {
            "text/plain": [
              "[(1, ''),\n",
              " (9, 'Project'),\n",
              " (9, 'Gutenberg’s'),\n",
              " (18, 'Alice’s'),\n",
              " (18, 'Adventures'),\n",
              " (18, 'in'),\n",
              " (18, 'Wonderland'),\n",
              " (18, 'by'),\n",
              " (18, 'Lewis'),\n",
              " (18, 'Carroll'),\n",
              " (27, 'This'),\n",
              " (27, 'eBook'),\n",
              " (27, 'is'),\n",
              " (27, 'for'),\n",
              " (27, 'the'),\n",
              " (27, 'use'),\n",
              " (27, 'of'),\n",
              " (27, 'anyone'),\n",
              " (27, 'anywhere'),\n",
              " (27, 'at'),\n",
              " (27, 'no'),\n",
              " (27, 'cost'),\n",
              " (27, 'and'),\n",
              " (27, 'with')]"
            ]
          },
          "metadata": {},
          "execution_count": 57
        }
      ]
    },
    {
      "cell_type": "markdown",
      "source": [
        "filter – filter() transformation is used to filter the records in an RDD. In our example we are filtering all words starts with “a”.\n",
        "\n"
      ],
      "metadata": {
        "id": "EVslWHfqxEJx"
      }
    },
    {
      "cell_type": "code",
      "source": [
        "rdd6 = rdd5.filter(lambda x : 'an' in x[1])\n",
        "rdd6.collect()"
      ],
      "metadata": {
        "colab": {
          "base_uri": "https://localhost:8080/"
        },
        "id": "jMEAmHc5xFxa",
        "outputId": "4b5b773a-1e04-49fc-cc9f-bc85f0c6c652"
      },
      "execution_count": null,
      "outputs": [
        {
          "output_type": "execute_result",
          "data": {
            "text/plain": [
              "[(18, 'Wonderland'), (27, 'anyone'), (27, 'anywhere'), (27, 'and')]"
            ]
          },
          "metadata": {},
          "execution_count": 58
        }
      ]
    },
    {
      "cell_type": "markdown",
      "source": [
        "# RDD ACTIONS\n",
        "\n",
        "count() – Returns the number of records in an RDD\n",
        "\n"
      ],
      "metadata": {
        "id": "Jn0yglHLyK-9"
      }
    },
    {
      "cell_type": "code",
      "source": [
        "print(\"count :\"+str(rdd6.count()))"
      ],
      "metadata": {
        "colab": {
          "base_uri": "https://localhost:8080/"
        },
        "id": "mHLqUFXFyRWI",
        "outputId": "a7bfb974-6d47-441d-f414-315e37fa59ce"
      },
      "execution_count": null,
      "outputs": [
        {
          "output_type": "stream",
          "name": "stdout",
          "text": [
            "count :4\n"
          ]
        }
      ]
    },
    {
      "cell_type": "markdown",
      "source": [
        "first() – Returns the first record.\n",
        "\n"
      ],
      "metadata": {
        "id": "VbHXd5Iey-wX"
      }
    },
    {
      "cell_type": "code",
      "source": [
        "firstRec = rdd6.first()\n",
        "print(\"first record:\" +str(firstRec[0]) + \",\" + firstRec[1])"
      ],
      "metadata": {
        "colab": {
          "base_uri": "https://localhost:8080/"
        },
        "id": "XwfxACGKzBuD",
        "outputId": "5b58b680-521d-4b34-fdbb-c1b35f2f5e89"
      },
      "execution_count": null,
      "outputs": [
        {
          "output_type": "stream",
          "name": "stdout",
          "text": [
            "first record:18,Wonderland\n"
          ]
        }
      ]
    },
    {
      "cell_type": "markdown",
      "source": [
        "max() – Returns max record.\n",
        "\n"
      ],
      "metadata": {
        "id": "bts9h7nEzxQ8"
      }
    },
    {
      "cell_type": "code",
      "source": [
        "datMax = rdd6.max()\n",
        "print(\"Max Record:\" +str(datMax[0]) + \",\" + datMax[1])"
      ],
      "metadata": {
        "colab": {
          "base_uri": "https://localhost:8080/"
        },
        "id": "DCpaD93Czx2E",
        "outputId": "e22632bf-d5c6-4534-94ba-d31c9bbdc603"
      },
      "execution_count": null,
      "outputs": [
        {
          "output_type": "stream",
          "name": "stdout",
          "text": [
            "Max Record:27,anywhere\n"
          ]
        }
      ]
    },
    {
      "cell_type": "markdown",
      "source": [
        "reduce() – Reduces the records to single, we can use this to count or sum.\n",
        "\n"
      ],
      "metadata": {
        "id": "X-jT8_UX0UpQ"
      }
    },
    {
      "cell_type": "code",
      "source": [
        "totalWordCount = rdd6.reduce(lambda a,b: (a[0]+b[0],a[1]))\n",
        "print(\"Reduce Record:\" +str(totalWordCount[0]))"
      ],
      "metadata": {
        "colab": {
          "base_uri": "https://localhost:8080/"
        },
        "id": "cqf1DcoU1a4J",
        "outputId": "55fc841b-12fe-4572-ba9d-901cf43836e6"
      },
      "execution_count": null,
      "outputs": [
        {
          "output_type": "stream",
          "name": "stdout",
          "text": [
            "Reduce Record:99\n"
          ]
        }
      ]
    },
    {
      "cell_type": "markdown",
      "source": [
        "take() – Returns the record specified as an argument.\n",
        "\n",
        "saveAsTextFile() – Using saveAsTestFile action, we can write the RDD to a text file.\n",
        "\n",
        "\n",
        "\n",
        "\n",
        "\n",
        "---\n",
        "\n"
      ],
      "metadata": {
        "id": "l-RYCoW62mkk"
      }
    },
    {
      "cell_type": "code",
      "source": [
        "rdd6.saveAsTextFile(\"/content/WordCount\")"
      ],
      "metadata": {
        "id": "oFm9fVRq2nfx"
      },
      "execution_count": null,
      "outputs": []
    }
  ]
}